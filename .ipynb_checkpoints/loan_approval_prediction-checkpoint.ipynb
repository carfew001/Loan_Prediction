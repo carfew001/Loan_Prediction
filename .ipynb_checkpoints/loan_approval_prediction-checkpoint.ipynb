{
 "cells": [
  {
   "cell_type": "markdown",
   "id": "7951fac8",
   "metadata": {
    "papermill": {
     "duration": 0.035416,
     "end_time": "2023-08-12T22:03:43.640645",
     "exception": false,
     "start_time": "2023-08-12T22:03:43.605229",
     "status": "completed"
    },
    "tags": []
   },
   "source": [
    "#### What is loan?\n",
    "<br>\n",
    "\"In finance, a loan is the transfer of money by one party to another with an agreement to pay it back after a given period of time. The recipient, or borrower, incurs a debt and is usually required to pay interest for the use of the money.\" \n",
    "<br>\n",
    "\n",
    "Resource by wikipedia: https://en.wikipedia.org/wiki/Loan"
   ]
  },
  {
   "cell_type": "markdown",
   "id": "a843f199",
   "metadata": {
    "papermill": {
     "duration": 0.035196,
     "end_time": "2023-08-12T22:03:43.711182",
     "exception": false,
     "start_time": "2023-08-12T22:03:43.675986",
     "status": "completed"
    },
    "tags": []
   },
   "source": [
    "#### How the loan process works?\n",
    "<br>\n",
    "According to the article in investopedia.com: \"When someone needs money, they apply for a loan from a bank, corporation, government, or other entity. The borrower may be required to provide specific details such as the reason for the loan, their financial history, Social Security number (SSN), and other information. The lender reviews this information as well as a person's debt-to-income (DTI) ratio to determine if the loan can be paid back.\n",
    "<br>\n",
    "Based on the applicant's creditworthiness, the lender either denies or approves the application. The lender must provide a reason should the loan application be denied. If the application is approved, both parties sign a contract that outlines the details of the agreement. The lender advances the proceeds of the loan, after which the borrower must repay the amount including any additional charges, such as interest.\n",
    "<br>\n",
    "The terms of a loan are agreed to by each party before any money or property changes hands or is disbursed. If the lender requires collateral, the lender outlines this in the loan documents. Most loans also have provisions regarding the maximum amount of interest, in addition to other covenants, such as the length of time before repayment is required.\"\n",
    "<br>\n",
    "\n",
    "Resource: https://www.investopedia.com/terms/l/loan.asp"
   ]
  },
  {
   "cell_type": "markdown",
   "id": "73e5b7a5",
   "metadata": {
    "papermill": {
     "duration": 0.035067,
     "end_time": "2023-08-12T22:03:43.781238",
     "exception": false,
     "start_time": "2023-08-12T22:03:43.746171",
     "status": "completed"
    },
    "tags": []
   },
   "source": [
    "Today, we are going to discover the world of loan!"
   ]
  },
  {
   "cell_type": "markdown",
   "id": "c7a36341",
   "metadata": {
    "papermill": {
     "duration": 0.034409,
     "end_time": "2023-08-12T22:03:43.850666",
     "exception": false,
     "start_time": "2023-08-12T22:03:43.816257",
     "status": "completed"
    },
    "tags": []
   },
   "source": [
    "## Plan"
   ]
  },
  {
   "cell_type": "markdown",
   "id": "18da07e3",
   "metadata": {
    "papermill": {
     "duration": 0.034442,
     "end_time": "2023-08-12T22:03:43.920582",
     "exception": false,
     "start_time": "2023-08-12T22:03:43.886140",
     "status": "completed"
    },
    "tags": []
   },
   "source": [
    "We are going to analyze a loan approval dataset that is created by Kai on Kaggle.com\n",
    "\n",
    "#### The Goal: \n",
    "To discover insights about how the loan has been approved.\n",
    "\n",
    "#### The Proposal: \n",
    "Use data cleaning, EDA, data visualization and statistics techniques to analyze the loan approval insights, and build a machine learning model that practices my machine learning skills.\n",
    "\n",
    "#### About Dataset\n",
    "The loan approval dataset is a collection of financial records and associated information used to determine the eligibility of individuals or organizations for obtaining loans from a lending institution. It includes various factors such as cibil score, income, employment status, loan term, loan amount, assets value, and loan status. This dataset is commonly used in machine learning and data analysis to develop models and algorithms that predict the likelihood of loan approval based on the given features.\n",
    "<br>\n",
    "\n",
    "We can also find the dataset over kaggle.com: https://www.kaggle.com/datasets/architsharma01/loan-approval-prediction-dataset?sort=published"
   ]
  },
  {
   "cell_type": "markdown",
   "id": "2ec2d7a6",
   "metadata": {
    "papermill": {
     "duration": 0.03429,
     "end_time": "2023-08-12T22:03:43.989869",
     "exception": false,
     "start_time": "2023-08-12T22:03:43.955579",
     "status": "completed"
    },
    "tags": []
   },
   "source": [
    "#### About columns (Information provided by the owner)\n",
    "\n",
    "* `loan_id`\n",
    "* `no_of_dependents`: Number of Dependents of the Applicant\n",
    "* `education`: Education of the Applicant (Graduate/Not Graduate)\n",
    "* `self_employed`: Employment Status of the Applicant\n",
    "* `income_annum`: Annual Income of the Applicant\t\n",
    "* `loan_amount`: Loan Amount\n",
    "* `loan_term`: Loan Term in Years\n",
    "* `cibil_score`: Credit Score\t \n",
    "* `residential_assets_value`\t \n",
    "* `commercial_assets_value`\t \n",
    "* `luxury_assets_value`\t \n",
    "* `bank_asset_value`\t \n",
    "* `loan_status`: Loan Approval Status (Approved/Rejected)\n"
   ]
  },
  {
   "cell_type": "code",
   "execution_count": 1,
   "id": "396a9d32",
   "metadata": {
    "execution": {
     "iopub.execute_input": "2023-08-12T22:03:44.061731Z",
     "iopub.status.busy": "2023-08-12T22:03:44.061187Z",
     "iopub.status.idle": "2023-08-12T22:03:47.438886Z",
     "shell.execute_reply": "2023-08-12T22:03:47.437994Z"
    },
    "papermill": {
     "duration": 3.416965,
     "end_time": "2023-08-12T22:03:47.441602",
     "exception": false,
     "start_time": "2023-08-12T22:03:44.024637",
     "status": "completed"
    },
    "tags": []
   },
   "outputs": [],
   "source": [
    "import pandas as pd\n",
    "import numpy as np\n",
    "from scipy import stats\n",
    "\n",
    "from sklearn.model_selection import train_test_split\n",
    "from sklearn.preprocessing import StandardScaler\n",
    "from sklearn.preprocessing import MinMaxScaler\n",
    "\n",
    "import matplotlib.pyplot as plt\n",
    "import seaborn as sns\n",
    "\n",
    "import scipy.stats as stats\n",
    "from statsmodels.formula.api import ols\n",
    "import statsmodels.api as sm\n",
    "\n",
    "from sklearn.linear_model import LogisticRegression\n",
    "from sklearn.metrics import recall_score, precision_score, f1_score, accuracy_score\n",
    "import sklearn.metrics as metrics\n",
    "from sklearn.ensemble import RandomForestClassifier\n",
    "from sklearn.model_selection import RandomizedSearchCV\n",
    "from tabulate import tabulate\n",
    "\n",
    "import warnings\n",
    "\n",
    "warnings.filterwarnings(\"ignore\")"
   ]
  },
  {
   "cell_type": "code",
   "execution_count": 2,
   "id": "71d4a64f",
   "metadata": {
    "execution": {
     "iopub.execute_input": "2023-08-12T22:03:47.513596Z",
     "iopub.status.busy": "2023-08-12T22:03:47.512805Z",
     "iopub.status.idle": "2023-08-12T22:03:47.524419Z",
     "shell.execute_reply": "2023-08-12T22:03:47.523331Z"
    },
    "papermill": {
     "duration": 0.049734,
     "end_time": "2023-08-12T22:03:47.526562",
     "exception": false,
     "start_time": "2023-08-12T22:03:47.476828",
     "status": "completed"
    },
    "tags": []
   },
   "outputs": [],
   "source": [
    "import os\n",
    "for dirname, _, filenames in os.walk('/kaggle/input'):\n",
    "    for filename in filenames:\n",
    "        print(os.path.join(dirname, filename))"
   ]
  },
  {
   "cell_type": "code",
   "execution_count": 3,
   "id": "f1b0df88",
   "metadata": {
    "execution": {
     "iopub.execute_input": "2023-08-12T22:03:47.599640Z",
     "iopub.status.busy": "2023-08-12T22:03:47.598940Z",
     "iopub.status.idle": "2023-08-12T22:03:47.658023Z",
     "shell.execute_reply": "2023-08-12T22:03:47.657238Z"
    },
    "papermill": {
     "duration": 0.098276,
     "end_time": "2023-08-12T22:03:47.660387",
     "exception": false,
     "start_time": "2023-08-12T22:03:47.562111",
     "status": "completed"
    },
    "tags": []
   },
   "outputs": [
    {
     "ename": "FileNotFoundError",
     "evalue": "[Errno 2] No such file or directory: '/kaggle/input/loan-approval-prediction-dataset/loan_approval_dataset.csv'",
     "output_type": "error",
     "traceback": [
      "\u001b[1;31m---------------------------------------------------------------------------\u001b[0m",
      "\u001b[1;31mFileNotFoundError\u001b[0m                         Traceback (most recent call last)",
      "\u001b[1;32me:\\Phase_3_Project\\Loan_Prediction\\loan-prediction-eda-x-2-anova-test-rf-97.ipynb Cell 9\u001b[0m line \u001b[0;36m1\n\u001b[1;32m----> <a href='vscode-notebook-cell:/e%3A/Phase_3_Project/Loan_Prediction/loan-prediction-eda-x-2-anova-test-rf-97.ipynb#X11sZmlsZQ%3D%3D?line=0'>1</a>\u001b[0m loan_original \u001b[39m=\u001b[39m pd\u001b[39m.\u001b[39;49mread_csv(\u001b[39m\"\u001b[39;49m\u001b[39m/kaggle/input/loan-approval-prediction-dataset/loan_approval_dataset.csv\u001b[39;49m\u001b[39m\"\u001b[39;49m)\n\u001b[0;32m      <a href='vscode-notebook-cell:/e%3A/Phase_3_Project/Loan_Prediction/loan-prediction-eda-x-2-anova-test-rf-97.ipynb#X11sZmlsZQ%3D%3D?line=1'>2</a>\u001b[0m loan_original\u001b[39m.\u001b[39mhead()\n",
      "File \u001b[1;32mc:\\Users\\User\\anaconda\\Lib\\site-packages\\pandas\\util\\_decorators.py:211\u001b[0m, in \u001b[0;36mdeprecate_kwarg.<locals>._deprecate_kwarg.<locals>.wrapper\u001b[1;34m(*args, **kwargs)\u001b[0m\n\u001b[0;32m    209\u001b[0m     \u001b[39melse\u001b[39;00m:\n\u001b[0;32m    210\u001b[0m         kwargs[new_arg_name] \u001b[39m=\u001b[39m new_arg_value\n\u001b[1;32m--> 211\u001b[0m \u001b[39mreturn\u001b[39;00m func(\u001b[39m*\u001b[39;49margs, \u001b[39m*\u001b[39;49m\u001b[39m*\u001b[39;49mkwargs)\n",
      "File \u001b[1;32mc:\\Users\\User\\anaconda\\Lib\\site-packages\\pandas\\util\\_decorators.py:331\u001b[0m, in \u001b[0;36mdeprecate_nonkeyword_arguments.<locals>.decorate.<locals>.wrapper\u001b[1;34m(*args, **kwargs)\u001b[0m\n\u001b[0;32m    325\u001b[0m \u001b[39mif\u001b[39;00m \u001b[39mlen\u001b[39m(args) \u001b[39m>\u001b[39m num_allow_args:\n\u001b[0;32m    326\u001b[0m     warnings\u001b[39m.\u001b[39mwarn(\n\u001b[0;32m    327\u001b[0m         msg\u001b[39m.\u001b[39mformat(arguments\u001b[39m=\u001b[39m_format_argument_list(allow_args)),\n\u001b[0;32m    328\u001b[0m         \u001b[39mFutureWarning\u001b[39;00m,\n\u001b[0;32m    329\u001b[0m         stacklevel\u001b[39m=\u001b[39mfind_stack_level(),\n\u001b[0;32m    330\u001b[0m     )\n\u001b[1;32m--> 331\u001b[0m \u001b[39mreturn\u001b[39;00m func(\u001b[39m*\u001b[39;49margs, \u001b[39m*\u001b[39;49m\u001b[39m*\u001b[39;49mkwargs)\n",
      "File \u001b[1;32mc:\\Users\\User\\anaconda\\Lib\\site-packages\\pandas\\io\\parsers\\readers.py:950\u001b[0m, in \u001b[0;36mread_csv\u001b[1;34m(filepath_or_buffer, sep, delimiter, header, names, index_col, usecols, squeeze, prefix, mangle_dupe_cols, dtype, engine, converters, true_values, false_values, skipinitialspace, skiprows, skipfooter, nrows, na_values, keep_default_na, na_filter, verbose, skip_blank_lines, parse_dates, infer_datetime_format, keep_date_col, date_parser, dayfirst, cache_dates, iterator, chunksize, compression, thousands, decimal, lineterminator, quotechar, quoting, doublequote, escapechar, comment, encoding, encoding_errors, dialect, error_bad_lines, warn_bad_lines, on_bad_lines, delim_whitespace, low_memory, memory_map, float_precision, storage_options)\u001b[0m\n\u001b[0;32m    935\u001b[0m kwds_defaults \u001b[39m=\u001b[39m _refine_defaults_read(\n\u001b[0;32m    936\u001b[0m     dialect,\n\u001b[0;32m    937\u001b[0m     delimiter,\n\u001b[1;32m   (...)\u001b[0m\n\u001b[0;32m    946\u001b[0m     defaults\u001b[39m=\u001b[39m{\u001b[39m\"\u001b[39m\u001b[39mdelimiter\u001b[39m\u001b[39m\"\u001b[39m: \u001b[39m\"\u001b[39m\u001b[39m,\u001b[39m\u001b[39m\"\u001b[39m},\n\u001b[0;32m    947\u001b[0m )\n\u001b[0;32m    948\u001b[0m kwds\u001b[39m.\u001b[39mupdate(kwds_defaults)\n\u001b[1;32m--> 950\u001b[0m \u001b[39mreturn\u001b[39;00m _read(filepath_or_buffer, kwds)\n",
      "File \u001b[1;32mc:\\Users\\User\\anaconda\\Lib\\site-packages\\pandas\\io\\parsers\\readers.py:605\u001b[0m, in \u001b[0;36m_read\u001b[1;34m(filepath_or_buffer, kwds)\u001b[0m\n\u001b[0;32m    602\u001b[0m _validate_names(kwds\u001b[39m.\u001b[39mget(\u001b[39m\"\u001b[39m\u001b[39mnames\u001b[39m\u001b[39m\"\u001b[39m, \u001b[39mNone\u001b[39;00m))\n\u001b[0;32m    604\u001b[0m \u001b[39m# Create the parser.\u001b[39;00m\n\u001b[1;32m--> 605\u001b[0m parser \u001b[39m=\u001b[39m TextFileReader(filepath_or_buffer, \u001b[39m*\u001b[39;49m\u001b[39m*\u001b[39;49mkwds)\n\u001b[0;32m    607\u001b[0m \u001b[39mif\u001b[39;00m chunksize \u001b[39mor\u001b[39;00m iterator:\n\u001b[0;32m    608\u001b[0m     \u001b[39mreturn\u001b[39;00m parser\n",
      "File \u001b[1;32mc:\\Users\\User\\anaconda\\Lib\\site-packages\\pandas\\io\\parsers\\readers.py:1442\u001b[0m, in \u001b[0;36mTextFileReader.__init__\u001b[1;34m(self, f, engine, **kwds)\u001b[0m\n\u001b[0;32m   1439\u001b[0m     \u001b[39mself\u001b[39m\u001b[39m.\u001b[39moptions[\u001b[39m\"\u001b[39m\u001b[39mhas_index_names\u001b[39m\u001b[39m\"\u001b[39m] \u001b[39m=\u001b[39m kwds[\u001b[39m\"\u001b[39m\u001b[39mhas_index_names\u001b[39m\u001b[39m\"\u001b[39m]\n\u001b[0;32m   1441\u001b[0m \u001b[39mself\u001b[39m\u001b[39m.\u001b[39mhandles: IOHandles \u001b[39m|\u001b[39m \u001b[39mNone\u001b[39;00m \u001b[39m=\u001b[39m \u001b[39mNone\u001b[39;00m\n\u001b[1;32m-> 1442\u001b[0m \u001b[39mself\u001b[39m\u001b[39m.\u001b[39m_engine \u001b[39m=\u001b[39m \u001b[39mself\u001b[39;49m\u001b[39m.\u001b[39;49m_make_engine(f, \u001b[39mself\u001b[39;49m\u001b[39m.\u001b[39;49mengine)\n",
      "File \u001b[1;32mc:\\Users\\User\\anaconda\\Lib\\site-packages\\pandas\\io\\parsers\\readers.py:1735\u001b[0m, in \u001b[0;36mTextFileReader._make_engine\u001b[1;34m(self, f, engine)\u001b[0m\n\u001b[0;32m   1733\u001b[0m     \u001b[39mif\u001b[39;00m \u001b[39m\"\u001b[39m\u001b[39mb\u001b[39m\u001b[39m\"\u001b[39m \u001b[39mnot\u001b[39;00m \u001b[39min\u001b[39;00m mode:\n\u001b[0;32m   1734\u001b[0m         mode \u001b[39m+\u001b[39m\u001b[39m=\u001b[39m \u001b[39m\"\u001b[39m\u001b[39mb\u001b[39m\u001b[39m\"\u001b[39m\n\u001b[1;32m-> 1735\u001b[0m \u001b[39mself\u001b[39m\u001b[39m.\u001b[39mhandles \u001b[39m=\u001b[39m get_handle(\n\u001b[0;32m   1736\u001b[0m     f,\n\u001b[0;32m   1737\u001b[0m     mode,\n\u001b[0;32m   1738\u001b[0m     encoding\u001b[39m=\u001b[39;49m\u001b[39mself\u001b[39;49m\u001b[39m.\u001b[39;49moptions\u001b[39m.\u001b[39;49mget(\u001b[39m\"\u001b[39;49m\u001b[39mencoding\u001b[39;49m\u001b[39m\"\u001b[39;49m, \u001b[39mNone\u001b[39;49;00m),\n\u001b[0;32m   1739\u001b[0m     compression\u001b[39m=\u001b[39;49m\u001b[39mself\u001b[39;49m\u001b[39m.\u001b[39;49moptions\u001b[39m.\u001b[39;49mget(\u001b[39m\"\u001b[39;49m\u001b[39mcompression\u001b[39;49m\u001b[39m\"\u001b[39;49m, \u001b[39mNone\u001b[39;49;00m),\n\u001b[0;32m   1740\u001b[0m     memory_map\u001b[39m=\u001b[39;49m\u001b[39mself\u001b[39;49m\u001b[39m.\u001b[39;49moptions\u001b[39m.\u001b[39;49mget(\u001b[39m\"\u001b[39;49m\u001b[39mmemory_map\u001b[39;49m\u001b[39m\"\u001b[39;49m, \u001b[39mFalse\u001b[39;49;00m),\n\u001b[0;32m   1741\u001b[0m     is_text\u001b[39m=\u001b[39;49mis_text,\n\u001b[0;32m   1742\u001b[0m     errors\u001b[39m=\u001b[39;49m\u001b[39mself\u001b[39;49m\u001b[39m.\u001b[39;49moptions\u001b[39m.\u001b[39;49mget(\u001b[39m\"\u001b[39;49m\u001b[39mencoding_errors\u001b[39;49m\u001b[39m\"\u001b[39;49m, \u001b[39m\"\u001b[39;49m\u001b[39mstrict\u001b[39;49m\u001b[39m\"\u001b[39;49m),\n\u001b[0;32m   1743\u001b[0m     storage_options\u001b[39m=\u001b[39;49m\u001b[39mself\u001b[39;49m\u001b[39m.\u001b[39;49moptions\u001b[39m.\u001b[39;49mget(\u001b[39m\"\u001b[39;49m\u001b[39mstorage_options\u001b[39;49m\u001b[39m\"\u001b[39;49m, \u001b[39mNone\u001b[39;49;00m),\n\u001b[0;32m   1744\u001b[0m )\n\u001b[0;32m   1745\u001b[0m \u001b[39massert\u001b[39;00m \u001b[39mself\u001b[39m\u001b[39m.\u001b[39mhandles \u001b[39mis\u001b[39;00m \u001b[39mnot\u001b[39;00m \u001b[39mNone\u001b[39;00m\n\u001b[0;32m   1746\u001b[0m f \u001b[39m=\u001b[39m \u001b[39mself\u001b[39m\u001b[39m.\u001b[39mhandles\u001b[39m.\u001b[39mhandle\n",
      "File \u001b[1;32mc:\\Users\\User\\anaconda\\Lib\\site-packages\\pandas\\io\\common.py:856\u001b[0m, in \u001b[0;36mget_handle\u001b[1;34m(path_or_buf, mode, encoding, compression, memory_map, is_text, errors, storage_options)\u001b[0m\n\u001b[0;32m    851\u001b[0m \u001b[39melif\u001b[39;00m \u001b[39misinstance\u001b[39m(handle, \u001b[39mstr\u001b[39m):\n\u001b[0;32m    852\u001b[0m     \u001b[39m# Check whether the filename is to be opened in binary mode.\u001b[39;00m\n\u001b[0;32m    853\u001b[0m     \u001b[39m# Binary mode does not support 'encoding' and 'newline'.\u001b[39;00m\n\u001b[0;32m    854\u001b[0m     \u001b[39mif\u001b[39;00m ioargs\u001b[39m.\u001b[39mencoding \u001b[39mand\u001b[39;00m \u001b[39m\"\u001b[39m\u001b[39mb\u001b[39m\u001b[39m\"\u001b[39m \u001b[39mnot\u001b[39;00m \u001b[39min\u001b[39;00m ioargs\u001b[39m.\u001b[39mmode:\n\u001b[0;32m    855\u001b[0m         \u001b[39m# Encoding\u001b[39;00m\n\u001b[1;32m--> 856\u001b[0m         handle \u001b[39m=\u001b[39m \u001b[39mopen\u001b[39;49m(\n\u001b[0;32m    857\u001b[0m             handle,\n\u001b[0;32m    858\u001b[0m             ioargs\u001b[39m.\u001b[39;49mmode,\n\u001b[0;32m    859\u001b[0m             encoding\u001b[39m=\u001b[39;49mioargs\u001b[39m.\u001b[39;49mencoding,\n\u001b[0;32m    860\u001b[0m             errors\u001b[39m=\u001b[39;49merrors,\n\u001b[0;32m    861\u001b[0m             newline\u001b[39m=\u001b[39;49m\u001b[39m\"\u001b[39;49m\u001b[39m\"\u001b[39;49m,\n\u001b[0;32m    862\u001b[0m         )\n\u001b[0;32m    863\u001b[0m     \u001b[39melse\u001b[39;00m:\n\u001b[0;32m    864\u001b[0m         \u001b[39m# Binary mode\u001b[39;00m\n\u001b[0;32m    865\u001b[0m         handle \u001b[39m=\u001b[39m \u001b[39mopen\u001b[39m(handle, ioargs\u001b[39m.\u001b[39mmode)\n",
      "\u001b[1;31mFileNotFoundError\u001b[0m: [Errno 2] No such file or directory: '/kaggle/input/loan-approval-prediction-dataset/loan_approval_dataset.csv'"
     ]
    }
   ],
   "source": [
    "loan_original = pd.read_csv(\"/kaggle/input/loan-approval-prediction-dataset/loan_approval_dataset.csv\")\n",
    "loan_original.head()"
   ]
  },
  {
   "cell_type": "markdown",
   "id": "fc50495e",
   "metadata": {
    "papermill": {
     "duration": 0.035367,
     "end_time": "2023-08-12T22:03:47.731222",
     "exception": false,
     "start_time": "2023-08-12T22:03:47.695855",
     "status": "completed"
    },
    "tags": []
   },
   "source": [
    "We already got a basic picture of this dataset, let's run some data cleaning scans as usual."
   ]
  },
  {
   "cell_type": "code",
   "execution_count": null,
   "id": "fc4f1193",
   "metadata": {
    "execution": {
     "iopub.execute_input": "2023-08-12T22:03:47.803277Z",
     "iopub.status.busy": "2023-08-12T22:03:47.802914Z",
     "iopub.status.idle": "2023-08-12T22:03:47.829571Z",
     "shell.execute_reply": "2023-08-12T22:03:47.828383Z"
    },
    "papermill": {
     "duration": 0.065459,
     "end_time": "2023-08-12T22:03:47.831862",
     "exception": false,
     "start_time": "2023-08-12T22:03:47.766403",
     "status": "completed"
    },
    "tags": []
   },
   "outputs": [
    {
     "ename": "",
     "evalue": "",
     "output_type": "error",
     "traceback": [
      "\u001b[1;31mFailed to start the Kernel. \n",
      "\u001b[1;31mUnable to start Kernel 'anaconda (Python 3.11.4)' due to a timeout waiting for the ports to get used. \n",
      "\u001b[1;31mView Jupyter <a href='command:jupyter.viewOutput'>log</a> for further details."
     ]
    }
   ],
   "source": [
    "loan_original.info()"
   ]
  },
  {
   "cell_type": "code",
   "execution_count": null,
   "id": "63a042a2",
   "metadata": {
    "execution": {
     "iopub.execute_input": "2023-08-12T22:03:47.906636Z",
     "iopub.status.busy": "2023-08-12T22:03:47.905679Z",
     "iopub.status.idle": "2023-08-12T22:03:47.967014Z",
     "shell.execute_reply": "2023-08-12T22:03:47.965878Z"
    },
    "papermill": {
     "duration": 0.100955,
     "end_time": "2023-08-12T22:03:47.969183",
     "exception": false,
     "start_time": "2023-08-12T22:03:47.868228",
     "status": "completed"
    },
    "scrolled": true,
    "tags": []
   },
   "outputs": [
    {
     "ename": "",
     "evalue": "",
     "output_type": "error",
     "traceback": [
      "\u001b[1;31mFailed to start the Kernel. \n",
      "\u001b[1;31mUnable to start Kernel 'anaconda (Python 3.11.4)' due to a timeout waiting for the ports to get used. \n",
      "\u001b[1;31mView Jupyter <a href='command:jupyter.viewOutput'>log</a> for further details."
     ]
    }
   ],
   "source": [
    "loan_original.describe(include = \"all\")"
   ]
  },
  {
   "cell_type": "code",
   "execution_count": null,
   "id": "4138b574",
   "metadata": {
    "execution": {
     "iopub.execute_input": "2023-08-12T22:03:48.043151Z",
     "iopub.status.busy": "2023-08-12T22:03:48.042747Z",
     "iopub.status.idle": "2023-08-12T22:03:48.057346Z",
     "shell.execute_reply": "2023-08-12T22:03:48.056321Z"
    },
    "papermill": {
     "duration": 0.054533,
     "end_time": "2023-08-12T22:03:48.059674",
     "exception": false,
     "start_time": "2023-08-12T22:03:48.005141",
     "status": "completed"
    },
    "tags": []
   },
   "outputs": [
    {
     "ename": "",
     "evalue": "",
     "output_type": "error",
     "traceback": [
      "\u001b[1;31mFailed to start the Kernel. \n",
      "\u001b[1;31mUnable to start Kernel 'anaconda (Python 3.11.4)' due to a timeout waiting for the ports to get used. \n",
      "\u001b[1;31mView Jupyter <a href='command:jupyter.viewOutput'>log</a> for further details."
     ]
    }
   ],
   "source": [
    "loan_original[loan_original['loan_id'].duplicated(keep = False) == True].sort_values(['loan_id'])   "
   ]
  },
  {
   "cell_type": "markdown",
   "id": "55a3806c",
   "metadata": {
    "papermill": {
     "duration": 0.035991,
     "end_time": "2023-08-12T22:03:48.131707",
     "exception": false,
     "start_time": "2023-08-12T22:03:48.095716",
     "status": "completed"
    },
    "tags": []
   },
   "source": [
    "By the data cleaning scans, we have confirmed:\n",
    "1. There is no null value and duplicated value in this dataset.\n",
    "1. `no_of_dependents`, `education`, `self_employed` and `loan_status` are categorical columns.\n",
    "1. There are a total 4269 rows in this dataset, with 13 columns (features).\n",
    "1. There are 2656 data with an approved `loan_status`, which is about 62.2% compared to the \"rejected\" group. The dataset is slightly imbalanced but it is acceptable and we don't need to rebalance it.\n",
    "1. Other columns are numerical."
   ]
  },
  {
   "cell_type": "markdown",
   "id": "8a07b94e",
   "metadata": {
    "papermill": {
     "duration": 0.036587,
     "end_time": "2023-08-12T22:03:48.205730",
     "exception": false,
     "start_time": "2023-08-12T22:03:48.169143",
     "status": "completed"
    },
    "tags": []
   },
   "source": [
    "This dataset is very clean and we don't need to take any extra data cleaning steps at this moment."
   ]
  },
  {
   "cell_type": "markdown",
   "id": "2a058d51",
   "metadata": {
    "papermill": {
     "duration": 0.036299,
     "end_time": "2023-08-12T22:03:48.278124",
     "exception": false,
     "start_time": "2023-08-12T22:03:48.241825",
     "status": "completed"
    },
    "tags": []
   },
   "source": [
    "Wait, not yet, I notice a small detail over the columns' names, take a look:"
   ]
  },
  {
   "cell_type": "code",
   "execution_count": null,
   "id": "e0c6933d",
   "metadata": {
    "execution": {
     "iopub.execute_input": "2023-08-12T22:03:48.353022Z",
     "iopub.status.busy": "2023-08-12T22:03:48.352624Z",
     "iopub.status.idle": "2023-08-12T22:03:48.359124Z",
     "shell.execute_reply": "2023-08-12T22:03:48.357912Z"
    },
    "papermill": {
     "duration": 0.047131,
     "end_time": "2023-08-12T22:03:48.361371",
     "exception": false,
     "start_time": "2023-08-12T22:03:48.314240",
     "status": "completed"
    },
    "tags": []
   },
   "outputs": [
    {
     "ename": "",
     "evalue": "",
     "output_type": "error",
     "traceback": [
      "\u001b[1;31mFailed to start the Kernel. \n",
      "\u001b[1;31mUnable to start Kernel 'anaconda (Python 3.11.4)' due to a timeout waiting for the ports to get used. \n",
      "\u001b[1;31mView Jupyter <a href='command:jupyter.viewOutput'>log</a> for further details."
     ]
    }
   ],
   "source": [
    "loan_original.columns"
   ]
  },
  {
   "cell_type": "markdown",
   "id": "45683e83",
   "metadata": {
    "papermill": {
     "duration": 0.035703,
     "end_time": "2023-08-12T22:03:48.435251",
     "exception": false,
     "start_time": "2023-08-12T22:03:48.399548",
     "status": "completed"
    },
    "tags": []
   },
   "source": [
    "Except `loan_id`, all the column names contain a space in front of the text, we need to trim them up to avoid future confusions."
   ]
  },
  {
   "cell_type": "code",
   "execution_count": null,
   "id": "97f4b861",
   "metadata": {
    "execution": {
     "iopub.execute_input": "2023-08-12T22:03:48.509437Z",
     "iopub.status.busy": "2023-08-12T22:03:48.508926Z",
     "iopub.status.idle": "2023-08-12T22:03:48.514736Z",
     "shell.execute_reply": "2023-08-12T22:03:48.513769Z"
    },
    "papermill": {
     "duration": 0.045232,
     "end_time": "2023-08-12T22:03:48.516848",
     "exception": false,
     "start_time": "2023-08-12T22:03:48.471616",
     "status": "completed"
    },
    "tags": []
   },
   "outputs": [
    {
     "ename": "",
     "evalue": "",
     "output_type": "error",
     "traceback": [
      "\u001b[1;31mFailed to start the Kernel. \n",
      "\u001b[1;31mUnable to start Kernel 'anaconda (Python 3.11.4)' due to a timeout waiting for the ports to get used. \n",
      "\u001b[1;31mView Jupyter <a href='command:jupyter.viewOutput'>log</a> for further details."
     ]
    }
   ],
   "source": [
    "loan_original.columns = loan_original.columns.str.replace(' ', '')"
   ]
  },
  {
   "cell_type": "code",
   "execution_count": null,
   "id": "014941da",
   "metadata": {
    "execution": {
     "iopub.execute_input": "2023-08-12T22:03:48.591730Z",
     "iopub.status.busy": "2023-08-12T22:03:48.591376Z",
     "iopub.status.idle": "2023-08-12T22:03:48.598001Z",
     "shell.execute_reply": "2023-08-12T22:03:48.597073Z"
    },
    "papermill": {
     "duration": 0.046569,
     "end_time": "2023-08-12T22:03:48.600014",
     "exception": false,
     "start_time": "2023-08-12T22:03:48.553445",
     "status": "completed"
    },
    "tags": []
   },
   "outputs": [
    {
     "ename": "",
     "evalue": "",
     "output_type": "error",
     "traceback": [
      "\u001b[1;31mFailed to start the Kernel. \n",
      "\u001b[1;31mUnable to start Kernel 'anaconda (Python 3.11.4)' due to a timeout waiting for the ports to get used. \n",
      "\u001b[1;31mView Jupyter <a href='command:jupyter.viewOutput'>log</a> for further details."
     ]
    }
   ],
   "source": [
    "# Check it out again\n",
    "\n",
    "loan_original.columns"
   ]
  },
  {
   "cell_type": "markdown",
   "id": "6c277f67",
   "metadata": {
    "papermill": {
     "duration": 0.035942,
     "end_time": "2023-08-12T22:03:48.671260",
     "exception": false,
     "start_time": "2023-08-12T22:03:48.635318",
     "status": "completed"
    },
    "tags": []
   },
   "source": [
    "Now the columns' names are good."
   ]
  },
  {
   "cell_type": "markdown",
   "id": "4eab78bb",
   "metadata": {
    "papermill": {
     "duration": 0.035369,
     "end_time": "2023-08-12T22:03:48.743695",
     "exception": false,
     "start_time": "2023-08-12T22:03:48.708326",
     "status": "completed"
    },
    "tags": []
   },
   "source": [
    "## Analyze"
   ]
  },
  {
   "cell_type": "markdown",
   "id": "be4d3990",
   "metadata": {
    "papermill": {
     "duration": 0.035649,
     "end_time": "2023-08-12T22:03:48.815277",
     "exception": false,
     "start_time": "2023-08-12T22:03:48.779628",
     "status": "completed"
    },
    "tags": []
   },
   "source": [
    "Let's have an overview of each feature in this dataset."
   ]
  },
  {
   "cell_type": "code",
   "execution_count": null,
   "id": "7cc9c041",
   "metadata": {
    "execution": {
     "iopub.execute_input": "2023-08-12T22:03:48.889292Z",
     "iopub.status.busy": "2023-08-12T22:03:48.888922Z",
     "iopub.status.idle": "2023-08-12T22:03:48.894960Z",
     "shell.execute_reply": "2023-08-12T22:03:48.893815Z"
    },
    "papermill": {
     "duration": 0.045717,
     "end_time": "2023-08-12T22:03:48.896993",
     "exception": false,
     "start_time": "2023-08-12T22:03:48.851276",
     "status": "completed"
    },
    "tags": []
   },
   "outputs": [
    {
     "ename": "",
     "evalue": "",
     "output_type": "error",
     "traceback": [
      "\u001b[1;31mFailed to start the Kernel. \n",
      "\u001b[1;31mUnable to start Kernel 'anaconda (Python 3.11.4)' due to a timeout waiting for the ports to get used. \n",
      "\u001b[1;31mView Jupyter <a href='command:jupyter.viewOutput'>log</a> for further details."
     ]
    }
   ],
   "source": [
    "loan = loan_original.drop(['loan_id'], axis=1)"
   ]
  },
  {
   "cell_type": "code",
   "execution_count": null,
   "id": "c5008420",
   "metadata": {
    "execution": {
     "iopub.execute_input": "2023-08-12T22:03:48.970527Z",
     "iopub.status.busy": "2023-08-12T22:03:48.970087Z",
     "iopub.status.idle": "2023-08-12T22:04:20.135729Z",
     "shell.execute_reply": "2023-08-12T22:04:20.134679Z"
    },
    "papermill": {
     "duration": 31.312208,
     "end_time": "2023-08-12T22:04:20.245126",
     "exception": false,
     "start_time": "2023-08-12T22:03:48.932918",
     "status": "completed"
    },
    "tags": []
   },
   "outputs": [
    {
     "ename": "",
     "evalue": "",
     "output_type": "error",
     "traceback": [
      "\u001b[1;31mFailed to start the Kernel. \n",
      "\u001b[1;31mUnable to start Kernel 'anaconda (Python 3.11.4)' due to a timeout waiting for the ports to get used. \n",
      "\u001b[1;31mView Jupyter <a href='command:jupyter.viewOutput'>log</a> for further details."
     ]
    }
   ],
   "source": [
    "sns.pairplot(loan)"
   ]
  },
  {
   "cell_type": "markdown",
   "id": "29162a5f",
   "metadata": {
    "papermill": {
     "duration": 0.075098,
     "end_time": "2023-08-12T22:04:20.394299",
     "exception": false,
     "start_time": "2023-08-12T22:04:20.319201",
     "status": "completed"
    },
    "tags": []
   },
   "source": [
    "As we can see, there are some variables having positive correlation with other variables, for example `loan_amount` & `income_annum`, `luxury_assets_value` & `bank_asset_value`, `income_annum` & `luxury_assets_value`. Let's start from here."
   ]
  },
  {
   "cell_type": "markdown",
   "id": "34e1cc1c",
   "metadata": {
    "papermill": {
     "duration": 0.076607,
     "end_time": "2023-08-12T22:04:20.546854",
     "exception": false,
     "start_time": "2023-08-12T22:04:20.470247",
     "status": "completed"
    },
    "tags": []
   },
   "source": [
    "#### 1. Loan status and loan amount"
   ]
  },
  {
   "cell_type": "markdown",
   "id": "ccf2e05f",
   "metadata": {
    "papermill": {
     "duration": 0.073992,
     "end_time": "2023-08-12T22:04:20.695869",
     "exception": false,
     "start_time": "2023-08-12T22:04:20.621877",
     "status": "completed"
    },
    "tags": []
   },
   "source": [
    "Let's firstly take a look at the distribution of loan amounts."
   ]
  },
  {
   "cell_type": "code",
   "execution_count": null,
   "id": "ff836739",
   "metadata": {
    "execution": {
     "iopub.execute_input": "2023-08-12T22:04:20.844549Z",
     "iopub.status.busy": "2023-08-12T22:04:20.844041Z",
     "iopub.status.idle": "2023-08-12T22:04:21.113359Z",
     "shell.execute_reply": "2023-08-12T22:04:21.112363Z"
    },
    "papermill": {
     "duration": 0.346297,
     "end_time": "2023-08-12T22:04:21.115785",
     "exception": false,
     "start_time": "2023-08-12T22:04:20.769488",
     "status": "completed"
    },
    "tags": []
   },
   "outputs": [
    {
     "ename": "",
     "evalue": "",
     "output_type": "error",
     "traceback": [
      "\u001b[1;31mFailed to start the Kernel. \n",
      "\u001b[1;31mUnable to start Kernel 'anaconda (Python 3.11.4)' due to a timeout waiting for the ports to get used. \n",
      "\u001b[1;31mView Jupyter <a href='command:jupyter.viewOutput'>log</a> for further details."
     ]
    }
   ],
   "source": [
    "# no outliers?\n",
    "\n",
    "sns.boxplot(loan['loan_amount'])\n",
    "plt.title(\"Loan Amount\")\n",
    "plt.xlabel(\"Loan Amount\")\n",
    "plt.show()"
   ]
  },
  {
   "cell_type": "code",
   "execution_count": null,
   "id": "f48de3f0",
   "metadata": {
    "execution": {
     "iopub.execute_input": "2023-08-12T22:04:21.267504Z",
     "iopub.status.busy": "2023-08-12T22:04:21.267067Z",
     "iopub.status.idle": "2023-08-12T22:04:21.768581Z",
     "shell.execute_reply": "2023-08-12T22:04:21.767486Z"
    },
    "papermill": {
     "duration": 0.580697,
     "end_time": "2023-08-12T22:04:21.771039",
     "exception": false,
     "start_time": "2023-08-12T22:04:21.190342",
     "status": "completed"
    },
    "tags": []
   },
   "outputs": [
    {
     "ename": "",
     "evalue": "",
     "output_type": "error",
     "traceback": [
      "\u001b[1;31mFailed to start the Kernel. \n",
      "\u001b[1;31mUnable to start Kernel 'anaconda (Python 3.11.4)' due to a timeout waiting for the ports to get used. \n",
      "\u001b[1;31mView Jupyter <a href='command:jupyter.viewOutput'>log</a> for further details."
     ]
    }
   ],
   "source": [
    "sns.histplot(loan, x='loan_amount', hue='loan_status')\n",
    "plt.title(\"Does loan status relate to the loan amount?\")\n",
    "plt.xlabel(\"Loan Amount\")\n",
    "plt.ylabel(\"Count\")\n",
    "plt.show()"
   ]
  },
  {
   "cell_type": "markdown",
   "id": "84b20b00",
   "metadata": {
    "papermill": {
     "duration": 0.0749,
     "end_time": "2023-08-12T22:04:21.921668",
     "exception": false,
     "start_time": "2023-08-12T22:04:21.846768",
     "status": "completed"
    },
    "tags": []
   },
   "source": [
    "It is interesting to see both approved and rejected loans have the same trends based on the different loan amounts, we haven't seen a strong relationship between the loan status and the loan amount in the histogram, but how about other features? For example, annual income."
   ]
  },
  {
   "cell_type": "code",
   "execution_count": null,
   "id": "a7e643af",
   "metadata": {
    "execution": {
     "iopub.execute_input": "2023-08-12T22:04:22.073068Z",
     "iopub.status.busy": "2023-08-12T22:04:22.072689Z",
     "iopub.status.idle": "2023-08-12T22:04:22.655988Z",
     "shell.execute_reply": "2023-08-12T22:04:22.654819Z"
    },
    "papermill": {
     "duration": 0.662423,
     "end_time": "2023-08-12T22:04:22.658897",
     "exception": false,
     "start_time": "2023-08-12T22:04:21.996474",
     "status": "completed"
    },
    "tags": []
   },
   "outputs": [
    {
     "ename": "",
     "evalue": "",
     "output_type": "error",
     "traceback": [
      "\u001b[1;31mFailed to start the Kernel. \n",
      "\u001b[1;31mUnable to start Kernel 'anaconda (Python 3.11.4)' due to a timeout waiting for the ports to get used. \n",
      "\u001b[1;31mView Jupyter <a href='command:jupyter.viewOutput'>log</a> for further details."
     ]
    }
   ],
   "source": [
    "sns.scatterplot(x=loan['income_annum'], y= loan['loan_amount'], hue=loan['loan_status'])\n",
    "plt.title(\"Loan Status, Loan Amount, Annual Income\")\n",
    "plt.xlabel(\"Annual Income\")\n",
    "plt.ylabel(\"Loan Amount\")\n",
    "plt.show()"
   ]
  },
  {
   "cell_type": "markdown",
   "id": "e688a0d8",
   "metadata": {
    "papermill": {
     "duration": 0.077442,
     "end_time": "2023-08-12T22:04:22.815203",
     "exception": false,
     "start_time": "2023-08-12T22:04:22.737761",
     "status": "completed"
    },
    "tags": []
   },
   "source": [
    "There are some interesting insights we have seen over the above figure:\n",
    "1. When annual income increases, the loan amount tends to increase. But the annual income doesn't show an obvious trend with the loan status.\n",
    "1. In this dataset, the applicants who have the lower annual income have a narrow range in loan amounts. Vise Versa, the applicants who have the higher lower annual income have a wider range in the loan amounts. Besides that the lenders will only accept the loan amount that aligns with the annual income in order to insure the applicants have ability to pay the loan back, it is easy to imagine the applicants who have higher annual income have more flexibility on the amount of the loan, whatever for themselves or for the lenders.\n",
    "1. In this dataset, the applicants who has highest annual income has been approved when they apply for the highest loan amount (see the upper right corner of the figure), but at the same time, the applicants who have the highest annual income have chances of being rejected when they apply lower loan amount (see the middle right of the figure/lower right of the triangle). It can be caused by different lenders and other conditions of the applicants. Let's use some code to take a closer look at it."
   ]
  },
  {
   "cell_type": "code",
   "execution_count": null,
   "id": "dab0a0a2",
   "metadata": {
    "execution": {
     "iopub.execute_input": "2023-08-12T22:04:22.972893Z",
     "iopub.status.busy": "2023-08-12T22:04:22.971936Z",
     "iopub.status.idle": "2023-08-12T22:04:22.991034Z",
     "shell.execute_reply": "2023-08-12T22:04:22.990261Z"
    },
    "papermill": {
     "duration": 0.100733,
     "end_time": "2023-08-12T22:04:22.992998",
     "exception": false,
     "start_time": "2023-08-12T22:04:22.892265",
     "status": "completed"
    },
    "tags": []
   },
   "outputs": [
    {
     "ename": "",
     "evalue": "",
     "output_type": "error",
     "traceback": [
      "\u001b[1;31mFailed to start the Kernel. \n",
      "\u001b[1;31mUnable to start Kernel 'anaconda (Python 3.11.4)' due to a timeout waiting for the ports to get used. \n",
      "\u001b[1;31mView Jupyter <a href='command:jupyter.viewOutput'>log</a> for further details."
     ]
    }
   ],
   "source": [
    "loan.loc[(loan['income_annum'] == loan['income_annum'].max()) & (loan['loan_status'] ==' Rejected')]"
   ]
  },
  {
   "cell_type": "markdown",
   "id": "aa20b061",
   "metadata": {
    "papermill": {
     "duration": 0.077284,
     "end_time": "2023-08-12T22:04:23.148470",
     "exception": false,
     "start_time": "2023-08-12T22:04:23.071186",
     "status": "completed"
    },
    "tags": []
   },
   "source": [
    "In the previous section, we have noticed that applicants who have the highest annual income tried to apply for a lower loan amount, but were rejected by the lenders. By checking up the subset (showing above), we confirm that the loan amount is not the main reason that causes their applications to be rejected. Taking a closer look at this subset, I see their credit scores (`cibil_score`) are considered as \"Poor\".\n",
    "<br>\n",
    "According to Equifax, the standard of the credit scores are: 300-579: Poor. 580-669: Fair. 670-739: Good. 740-799: Very good.\n",
    "\n",
    "Resource: https://www.equifax.com/personal/education/credit/score/what-is-a-credit-score/#:~:text=300%2D579%3A%20Poor,740%2D799%3A%20Very%20good\n"
   ]
  },
  {
   "cell_type": "markdown",
   "id": "7f6adf7d",
   "metadata": {
    "papermill": {
     "duration": 0.077359,
     "end_time": "2023-08-12T22:04:23.303566",
     "exception": false,
     "start_time": "2023-08-12T22:04:23.226207",
     "status": "completed"
    },
    "tags": []
   },
   "source": [
    "Let's take a look at the credit score!"
   ]
  },
  {
   "cell_type": "markdown",
   "id": "7dab8078",
   "metadata": {
    "papermill": {
     "duration": 0.077249,
     "end_time": "2023-08-12T22:04:23.459529",
     "exception": false,
     "start_time": "2023-08-12T22:04:23.382280",
     "status": "completed"
    },
    "tags": []
   },
   "source": [
    "#### 2. Credit Score"
   ]
  },
  {
   "cell_type": "code",
   "execution_count": null,
   "id": "fef0ddbf",
   "metadata": {
    "execution": {
     "iopub.execute_input": "2023-08-12T22:04:23.621423Z",
     "iopub.status.busy": "2023-08-12T22:04:23.620499Z",
     "iopub.status.idle": "2023-08-12T22:04:24.383869Z",
     "shell.execute_reply": "2023-08-12T22:04:24.382747Z"
    },
    "papermill": {
     "duration": 0.850923,
     "end_time": "2023-08-12T22:04:24.389366",
     "exception": false,
     "start_time": "2023-08-12T22:04:23.538443",
     "status": "completed"
    },
    "tags": []
   },
   "outputs": [
    {
     "ename": "",
     "evalue": "",
     "output_type": "error",
     "traceback": [
      "\u001b[1;31mFailed to start the Kernel. \n",
      "\u001b[1;31mUnable to start Kernel 'anaconda (Python 3.11.4)' due to a timeout waiting for the ports to get used. \n",
      "\u001b[1;31mView Jupyter <a href='command:jupyter.viewOutput'>log</a> for further details."
     ]
    }
   ],
   "source": [
    "sns.scatterplot(x=loan['cibil_score'], y= loan['loan_amount'], hue=loan['loan_status'])\n",
    "plt.title(\"Loan Status, Loan Amount, Credit Score\")\n",
    "plt.xlabel(\"Credit Score\")\n",
    "plt.ylabel(\"Loan Amount\")\n",
    "plt.show()"
   ]
  },
  {
   "cell_type": "markdown",
   "id": "54707bdf",
   "metadata": {
    "papermill": {
     "duration": 0.085871,
     "end_time": "2023-08-12T22:04:24.557546",
     "exception": false,
     "start_time": "2023-08-12T22:04:24.471675",
     "status": "completed"
    },
    "tags": []
   },
   "source": [
    "I am amazed to see the credit scores around 540 - 550 separate the loan status into two parts in a very clear way. In the other words, the loan status is highly related to the credit score.\n",
    "<br>\n",
    "It is also interesting to see the credit score that separates the loan status is not 579 which is the highest score of the \"poor\" credit score. In the other words, the poor credit scores which are above 540 - 550 still have a good chance of being approved by loan lenders. This could be attributed to lenders' flexibility or specific factors that impact approval decisions."
   ]
  },
  {
   "cell_type": "markdown",
   "id": "4e6cc8b2",
   "metadata": {
    "papermill": {
     "duration": 0.083524,
     "end_time": "2023-08-12T22:04:24.724257",
     "exception": false,
     "start_time": "2023-08-12T22:04:24.640733",
     "status": "completed"
    },
    "tags": []
   },
   "source": [
    "However, we also notice a puzzling trend: some of the applicants with high credit scores (above 740) were still rejected. Few of them have only applied for a small amount of the loan which is below the median amount. What is the reason?"
   ]
  },
  {
   "cell_type": "code",
   "execution_count": null,
   "id": "116e05bf",
   "metadata": {
    "execution": {
     "iopub.execute_input": "2023-08-12T22:04:24.894647Z",
     "iopub.status.busy": "2023-08-12T22:04:24.894098Z",
     "iopub.status.idle": "2023-08-12T22:04:24.912303Z",
     "shell.execute_reply": "2023-08-12T22:04:24.911541Z"
    },
    "papermill": {
     "duration": 0.105818,
     "end_time": "2023-08-12T22:04:24.914430",
     "exception": false,
     "start_time": "2023-08-12T22:04:24.808612",
     "status": "completed"
    },
    "tags": []
   },
   "outputs": [
    {
     "ename": "",
     "evalue": "",
     "output_type": "error",
     "traceback": [
      "\u001b[1;31mFailed to start the Kernel. \n",
      "\u001b[1;31mUnable to start Kernel 'anaconda (Python 3.11.4)' due to a timeout waiting for the ports to get used. \n",
      "\u001b[1;31mView Jupyter <a href='command:jupyter.viewOutput'>log</a> for further details."
     ]
    }
   ],
   "source": [
    "loan.loc[(loan['cibil_score'] > 740) & (loan['loan_status'] ==' Rejected')].sort_values(['cibil_score'], ascending= False)"
   ]
  },
  {
   "cell_type": "markdown",
   "id": "2cadcfd8",
   "metadata": {
    "papermill": {
     "duration": 0.084669,
     "end_time": "2023-08-12T22:04:25.083446",
     "exception": false,
     "start_time": "2023-08-12T22:04:24.998777",
     "status": "completed"
    },
    "tags": []
   },
   "source": [
    "By creating the subset, we have more than 5 applicants with more than 740 credit scores, their applications were rejected.\n",
    "<br>\n",
    "In order to discover more reasons, there are 4 features that take my attention, they are `residential_assets_value`, `commercial_assets_value`, `luxury_assets_value`, `bank_asset_value`. Since we are not able to find the description of these 4 variables from the dataset, let's do some research and see what they are."
   ]
  },
  {
   "cell_type": "markdown",
   "id": "db2efa60",
   "metadata": {
    "papermill": {
     "duration": 0.083983,
     "end_time": "2023-08-12T22:04:25.252433",
     "exception": false,
     "start_time": "2023-08-12T22:04:25.168450",
     "status": "completed"
    },
    "tags": []
   },
   "source": [
    "#### 3. residential_assets_value, commercial_assets_value, luxury_assets_value, bank_asset_value"
   ]
  },
  {
   "cell_type": "markdown",
   "id": "17587626",
   "metadata": {
    "papermill": {
     "duration": 0.087112,
     "end_time": "2023-08-12T22:04:25.424810",
     "exception": false,
     "start_time": "2023-08-12T22:04:25.337698",
     "status": "completed"
    },
    "tags": []
   },
   "source": [
    "According to investopedia.com: \"Asset valuation is the process of determining the fair market value of an asset.\"\n",
    "<br>\n",
    "Resource: https://www.investopedia.com/terms/a/assetvaluation.asp#:~:text=Key%20Takeaways-,Asset%20valuation%20is%20the%20process%20of%20determining%20the%20fair%20market,less%20intangible%20assets%20and%20liabilities.\n",
    "\n",
    "As we are not able to find the clear definitions of those asset values on Google, but ChatGPT helped us out:\n",
    "<br>\n",
    "\"Based on the description you've provided, I can offer some general interpretations for the variables you mentioned:\n",
    "\n",
    "* Residential Assets Value: This is likely a measure of the total value of residential properties or real estate assets owned by the individuals or organizations in the dataset.\n",
    "\n",
    "* Commercial Assets Value: This could represent the total value of commercial properties or business-related assets owned by the individuals or organizations in the dataset. Commercial properties might include office buildings, retail spaces, warehouses, and similar assets.\n",
    "\n",
    "* Luxury Assets Value: This might refer to the total value of high-end or luxury items owned by the individuals or organizations. These could include items such as luxury vehicles, valuable artwork, jewelry, and other premium possessions.\n",
    "\n",
    "* Bank Asset Value: This is possibly the total value of assets held by the bank or lending institution itself. It might include cash reserves, investments, and other financial assets.\""
   ]
  },
  {
   "cell_type": "code",
   "execution_count": null,
   "id": "322df1a9",
   "metadata": {
    "execution": {
     "iopub.execute_input": "2023-08-12T22:04:25.601403Z",
     "iopub.status.busy": "2023-08-12T22:04:25.600041Z",
     "iopub.status.idle": "2023-08-12T22:04:27.235811Z",
     "shell.execute_reply": "2023-08-12T22:04:27.234650Z"
    },
    "papermill": {
     "duration": 1.726028,
     "end_time": "2023-08-12T22:04:27.238416",
     "exception": false,
     "start_time": "2023-08-12T22:04:25.512388",
     "status": "completed"
    },
    "tags": []
   },
   "outputs": [
    {
     "ename": "",
     "evalue": "",
     "output_type": "error",
     "traceback": [
      "\u001b[1;31mFailed to start the Kernel. \n",
      "\u001b[1;31mUnable to start Kernel 'anaconda (Python 3.11.4)' due to a timeout waiting for the ports to get used. \n",
      "\u001b[1;31mView Jupyter <a href='command:jupyter.viewOutput'>log</a> for further details."
     ]
    }
   ],
   "source": [
    "fig,axes = plt.subplots(2, 2, figsize = (8, 6))\n",
    "\n",
    "sns.histplot(loan, x = 'residential_assets_value', hue = 'loan_status', ax = axes[0,0])\n",
    "axes[0,0].set_xlabel(\"Residential Assets Value\")\n",
    "axes[0,0].set_ylabel(\"Count\")\n",
    "\n",
    "sns.histplot(loan, x = 'commercial_assets_value', hue = 'loan_status', ax = axes[1,0])\n",
    "axes[1,0].set_xlabel(\"Commercial Assets Value\")\n",
    "axes[1,0].set_ylabel(\"Count\")\n",
    "\n",
    "sns.histplot(loan, x = 'luxury_assets_value', hue = 'loan_status', ax = axes[0,1])\n",
    "axes[0,1].set_xlabel(\"Luxury Assets Value\")\n",
    "axes[0,1].set_ylabel(\"Count\")\n",
    "\n",
    "sns.histplot(loan, x = 'bank_asset_value', hue = 'loan_status', ax = axes[1,1])\n",
    "axes[1,1].set_xlabel(\"Bank Assets Value\")\n",
    "axes[1,1].set_ylabel(\"Count\")\n",
    "\n",
    "plt.tight_layout()\n",
    "plt.show()"
   ]
  },
  {
   "cell_type": "markdown",
   "id": "1f015970",
   "metadata": {
    "papermill": {
     "duration": 0.088037,
     "end_time": "2023-08-12T22:04:27.412137",
     "exception": false,
     "start_time": "2023-08-12T22:04:27.324100",
     "status": "completed"
    },
    "tags": []
   },
   "source": [
    "The same as the loan amount, we are not able to see the clear trends between those asset values and the loan status, we have to do something else and see what those asset values are."
   ]
  },
  {
   "cell_type": "markdown",
   "id": "5685748c",
   "metadata": {
    "papermill": {
     "duration": 0.08414,
     "end_time": "2023-08-12T22:04:27.580992",
     "exception": false,
     "start_time": "2023-08-12T22:04:27.496852",
     "status": "completed"
    },
    "tags": []
   },
   "source": [
    "Let's create a subset and get to know the correlation scores between those 4 asset values and other variables."
   ]
  },
  {
   "cell_type": "code",
   "execution_count": null,
   "id": "06bf6c7d",
   "metadata": {
    "execution": {
     "iopub.execute_input": "2023-08-12T22:04:27.752806Z",
     "iopub.status.busy": "2023-08-12T22:04:27.751772Z",
     "iopub.status.idle": "2023-08-12T22:04:27.762212Z",
     "shell.execute_reply": "2023-08-12T22:04:27.761054Z"
    },
    "papermill": {
     "duration": 0.0994,
     "end_time": "2023-08-12T22:04:27.764620",
     "exception": false,
     "start_time": "2023-08-12T22:04:27.665220",
     "status": "completed"
    },
    "tags": []
   },
   "outputs": [
    {
     "ename": "",
     "evalue": "",
     "output_type": "error",
     "traceback": [
      "\u001b[1;31mFailed to start the Kernel. \n",
      "\u001b[1;31mUnable to start Kernel 'anaconda (Python 3.11.4)' due to a timeout waiting for the ports to get used. \n",
      "\u001b[1;31mView Jupyter <a href='command:jupyter.viewOutput'>log</a> for further details."
     ]
    }
   ],
   "source": [
    "loan_asset = loan[['residential_assets_value', 'commercial_assets_value',\n",
    "       'luxury_assets_value', 'bank_asset_value', 'no_of_dependents', 'education', 'self_employed',\n",
    "       'income_annum', 'loan_amount', 'loan_term', 'cibil_score',\n",
    "       'loan_status']]\n",
    "loan_asset_corr = loan_asset.corr()"
   ]
  },
  {
   "cell_type": "code",
   "execution_count": null,
   "id": "bf6a2b31",
   "metadata": {
    "execution": {
     "iopub.execute_input": "2023-08-12T22:04:27.935200Z",
     "iopub.status.busy": "2023-08-12T22:04:27.934770Z",
     "iopub.status.idle": "2023-08-12T22:04:28.639796Z",
     "shell.execute_reply": "2023-08-12T22:04:28.638547Z"
    },
    "papermill": {
     "duration": 0.793926,
     "end_time": "2023-08-12T22:04:28.642194",
     "exception": false,
     "start_time": "2023-08-12T22:04:27.848268",
     "status": "completed"
    },
    "tags": []
   },
   "outputs": [
    {
     "ename": "",
     "evalue": "",
     "output_type": "error",
     "traceback": [
      "\u001b[1;31mFailed to start the Kernel. \n",
      "\u001b[1;31mUnable to start Kernel 'anaconda (Python 3.11.4)' due to a timeout waiting for the ports to get used. \n",
      "\u001b[1;31mView Jupyter <a href='command:jupyter.viewOutput'>log</a> for further details."
     ]
    }
   ],
   "source": [
    "sns.heatmap(loan_asset_corr, annot=True, fmt=\".2f\", cmap=\"coolwarm\")"
   ]
  },
  {
   "cell_type": "markdown",
   "id": "385c120c",
   "metadata": {
    "papermill": {
     "duration": 0.092012,
     "end_time": "2023-08-12T22:04:28.831712",
     "exception": false,
     "start_time": "2023-08-12T22:04:28.739700",
     "status": "completed"
    },
    "tags": []
   },
   "source": [
    "Now we can see some insights through the heatmap:\n",
    "1. All the asset values have moderate to strong positive linear relationships with the annual income. As the applicants who have more annual income tend to have more flexibility on purchasing the properties with higher asset values especially the luxury assets value.\n",
    "1. By checking the correlation scores, I have a question in my mind: why do residential assets value and commercial assets value have less positive linear relationships with the annual income, compared to other assets value? As a non-finance person, I saw these trends but was not able to find out why until I was helped by ChatGPT, what ChatGPT says:\n",
    "* The differences in correlation strengths might be due to various factors in the data and the context of the variables:\n",
    "    1. Nature of Assets:\n",
    "        * Luxury assets and bank assets might have a stronger connection to an individual's income. People with higher incomes might be more likely to have luxury assets or maintain bank assets.\n",
    "        * Residential and commercial assets might be influenced by other factors such as location, real estate market trends, and investment strategies, which could result in a slightly weaker correlation with income.\n",
    "    1. Economic Status:\n",
    "        * People with higher incomes could afford luxury items and have larger bank assets, resulting in a tighter correlation.\n",
    "        * Residential and commercial assets might be affected by broader economic trends and market conditions, leading to a less direct correlation with individual income.\n",
    "    1. Diverse Income Sources:\n",
    "\n",
    "        * Some individuals might have diverse income sources beyond their primary job, impacting the relationship between assets and annual income.\n",
    "    1. Data Variability:\n",
    "\n",
    "        * Natural variability in data could contribute to variations in correlation strength. A smaller dataset might result in less precise estimates of correlation.\n",
    "    1. Outliers and Extreme Values:\n",
    "\n",
    "        * Extreme values or outliers in the data can influence correlation values. If a few individuals with extremely high income also have high asset values, it could strengthen the correlation.\n",
    "\n",
    "3. How can an asset value equals 0? It's possible that the asset values correspond to different types of properties or assets. For instance, the residential asset might refer to a property type that has a value of 0, while the commercial asset could pertain to a different type of property, such as a commercial building."
   ]
  },
  {
   "cell_type": "code",
   "execution_count": null,
   "id": "e0c1dde2",
   "metadata": {
    "execution": {
     "iopub.execute_input": "2023-08-12T22:04:29.028066Z",
     "iopub.status.busy": "2023-08-12T22:04:29.027088Z",
     "iopub.status.idle": "2023-08-12T22:04:31.192426Z",
     "shell.execute_reply": "2023-08-12T22:04:31.191554Z"
    },
    "papermill": {
     "duration": 2.272586,
     "end_time": "2023-08-12T22:04:31.197938",
     "exception": false,
     "start_time": "2023-08-12T22:04:28.925352",
     "status": "completed"
    },
    "tags": []
   },
   "outputs": [
    {
     "ename": "",
     "evalue": "",
     "output_type": "error",
     "traceback": [
      "\u001b[1;31mFailed to start the Kernel. \n",
      "\u001b[1;31mUnable to start Kernel 'anaconda (Python 3.11.4)' due to a timeout waiting for the ports to get used. \n",
      "\u001b[1;31mView Jupyter <a href='command:jupyter.viewOutput'>log</a> for further details."
     ]
    }
   ],
   "source": [
    "fig,axes = plt.subplots(2, 2, figsize = (8, 6))\n",
    "\n",
    "sns.scatterplot(loan, x = 'residential_assets_value', y= 'income_annum', hue = 'loan_status', ax = axes[0,0])\n",
    "axes[0,0].set_xlabel(\"Residential Assets Value\")\n",
    "\n",
    "sns.scatterplot(loan, x = 'commercial_assets_value', y= 'income_annum', hue = 'loan_status',ax = axes[1,0])\n",
    "axes[1,0].set_xlabel(\"Commercial Assets Value\")\n",
    "\n",
    "sns.scatterplot(loan, x = 'luxury_assets_value', y= 'income_annum', hue = 'loan_status',ax = axes[0,1])\n",
    "axes[0,1].set_xlabel(\"Luxury Assets Value\")\n",
    "\n",
    "sns.scatterplot(loan, x = 'bank_asset_value', y= 'income_annum', hue = 'loan_status',ax = axes[1,1])\n",
    "axes[1,1].set_xlabel(\"Bank Assets Value\")\n",
    "\n",
    "plt.tight_layout()\n",
    "plt.show()"
   ]
  },
  {
   "cell_type": "markdown",
   "id": "d08d5cf6",
   "metadata": {
    "papermill": {
     "duration": 0.091339,
     "end_time": "2023-08-12T22:04:31.381989",
     "exception": false,
     "start_time": "2023-08-12T22:04:31.290650",
     "status": "completed"
    },
    "tags": []
   },
   "source": [
    "Let's take a more look about the asset values through the scatterplot before we move on. \n",
    "\n",
    "* We can see, both of `residential_assets_value`, `commercial_assets_value` create right triangles on the scatter plots, cutting the plot into two sections. This indicates that the relationship between annual income and these asset values might have some sort of threshold effect. For example, once the asset value reaches a certain point, the annual income tends to increase significantly.\n",
    "\n",
    "\n",
    "* The obtuse triangles you're seeing for `luxury_assets_value`, `bank_asset_value suggest` have a different type of relationship. The smaller triangle for luxury assets value compared to bank asset value might indicate that while there's a strong correlation between luxury assets value and annual income, there's a higher variability in annual income for any given luxury assets value. In other words, luxury assets might be a good indicator of higher annual income, but there are exceptions."
   ]
  },
  {
   "cell_type": "markdown",
   "id": "df7f06c2",
   "metadata": {
    "papermill": {
     "duration": 0.089722,
     "end_time": "2023-08-12T22:04:31.561279",
     "exception": false,
     "start_time": "2023-08-12T22:04:31.471557",
     "status": "completed"
    },
    "tags": []
   },
   "source": [
    "#### 4. Loan Term"
   ]
  },
  {
   "cell_type": "markdown",
   "id": "4e5d8b9f",
   "metadata": {
    "papermill": {
     "duration": 0.09118,
     "end_time": "2023-08-12T22:04:31.744825",
     "exception": false,
     "start_time": "2023-08-12T22:04:31.653645",
     "status": "completed"
    },
    "tags": []
   },
   "source": [
    "On the correlation heatmap, we may already see there is no strong to moderate linear relationship between `loan_term` and other variables. But we can still discover more, it is the funnest part of a data analysis project."
   ]
  },
  {
   "cell_type": "code",
   "execution_count": null,
   "id": "28a1d731",
   "metadata": {
    "execution": {
     "iopub.execute_input": "2023-08-12T22:04:31.931020Z",
     "iopub.status.busy": "2023-08-12T22:04:31.929884Z",
     "iopub.status.idle": "2023-08-12T22:04:31.962313Z",
     "shell.execute_reply": "2023-08-12T22:04:31.961151Z"
    },
    "papermill": {
     "duration": 0.128232,
     "end_time": "2023-08-12T22:04:31.964734",
     "exception": false,
     "start_time": "2023-08-12T22:04:31.836502",
     "status": "completed"
    },
    "tags": []
   },
   "outputs": [
    {
     "ename": "",
     "evalue": "",
     "output_type": "error",
     "traceback": [
      "\u001b[1;31mFailed to start the Kernel. \n",
      "\u001b[1;31mUnable to start Kernel 'anaconda (Python 3.11.4)' due to a timeout waiting for the ports to get used. \n",
      "\u001b[1;31mView Jupyter <a href='command:jupyter.viewOutput'>log</a> for further details."
     ]
    }
   ],
   "source": [
    "cross_loan_term = pd.crosstab(index=loan['loan_term'], columns=loan['loan_status'])\n",
    "cross_loan_term['Total'] = cross_loan_term[' Approved'] + cross_loan_term[' Rejected'] \n",
    "cross_loan_term['Approved_percentage'] = (cross_loan_term[' Approved']/cross_loan_term['Total'])*100\n",
    "cross_loan_term['Rejected_percentage'] = (cross_loan_term[' Rejected']/cross_loan_term['Total'])*100\n",
    "cross_loan_term"
   ]
  },
  {
   "cell_type": "code",
   "execution_count": null,
   "id": "c902b458",
   "metadata": {
    "execution": {
     "iopub.execute_input": "2023-08-12T22:04:32.148856Z",
     "iopub.status.busy": "2023-08-12T22:04:32.148105Z",
     "iopub.status.idle": "2023-08-12T22:04:32.979256Z",
     "shell.execute_reply": "2023-08-12T22:04:32.978167Z"
    },
    "papermill": {
     "duration": 0.92794,
     "end_time": "2023-08-12T22:04:32.983149",
     "exception": false,
     "start_time": "2023-08-12T22:04:32.055209",
     "status": "completed"
    },
    "tags": []
   },
   "outputs": [
    {
     "ename": "",
     "evalue": "",
     "output_type": "error",
     "traceback": [
      "\u001b[1;31mFailed to start the Kernel. \n",
      "\u001b[1;31mUnable to start Kernel 'anaconda (Python 3.11.4)' due to a timeout waiting for the ports to get used. \n",
      "\u001b[1;31mView Jupyter <a href='command:jupyter.viewOutput'>log</a> for further details."
     ]
    }
   ],
   "source": [
    "fig,axes = plt.subplots(2,1, figsize=(10,6))\n",
    "cross_loan_term.plot(kind='line', marker='o', ax = axes[0])\n",
    "axes[0].set_xlabel('Loan Term')\n",
    "axes[0].set_ylabel('Count')\n",
    "axes[0].set_title('Loan Status by Loan Term')\n",
    "axes[0].legend(bbox_to_anchor=(1.05, 1.0), loc='upper left')\n",
    "\n",
    "sns.scatterplot(loan, x = 'loan_term', y = 'loan_amount', hue = 'loan_status', ax = axes[1])\n",
    "axes[1].set_title(\"Loan Status, Loan Amount, Loan Term\")\n",
    "axes[1].set_xlabel(\"Loan Term\")\n",
    "axes[1].set_ylabel(\"Loan Amount\")\n",
    "axes[1].legend(bbox_to_anchor=(1.05, 1.0), loc='upper left')\n",
    "\n",
    "plt.tight_layout()\n",
    "plt.show()"
   ]
  },
  {
   "cell_type": "markdown",
   "id": "ced76bb6",
   "metadata": {
    "papermill": {
     "duration": 0.095622,
     "end_time": "2023-08-12T22:04:33.173608",
     "exception": false,
     "start_time": "2023-08-12T22:04:33.077986",
     "status": "completed"
    },
    "tags": []
   },
   "source": [
    "1. The total observations for each of the loan terms are very even, we appreciate the owner of this dataset, so we can analyze the data much easier without worrying about the balancing.\n",
    "1. The shortest loan term in this dataset, which is 2 years, gets the one of the most chances for being approved by the lenders, compared to other loan terms, except the 4 years loan term which gets the most chances for being approved.\n",
    "1. When the loan term is more than 4 years, the chance of being rejected have significantly increased, vise versa, the chance of being approved have dropped. Until the loan term equals to 8, both chances of being approved and rejected are tended to be normal. When the loan term reaches the 10 years, it is a loan term whose chance of being approved and rejected are approximately the same. After 10 years, the trend is becoming more consistent and the chance of being approved is slightly higher than the chance of being rejected.\n",
    "1. In the group of 2 years of loan term, the applicants who apply for loans for more than \\\\$30,000,000 have all been approved. Similar situation as the applicants in the group of the 4 years of loan term, who apply for more than \\\\$30,000,000 loan amount. Compared to the higher loan amount, the lower loan amount has more chance of being rejected, especially when the applicants want the 4 years of loan term. In my experience, short term loans with lower loan amounts should be even easier to be paid back, compared to larger amounts. What are the reasons that cause those applications to be rejected? Let's use a subset to find out the reason."
   ]
  },
  {
   "cell_type": "code",
   "execution_count": null,
   "id": "721e3e38",
   "metadata": {
    "execution": {
     "iopub.execute_input": "2023-08-12T22:04:33.368629Z",
     "iopub.status.busy": "2023-08-12T22:04:33.367948Z",
     "iopub.status.idle": "2023-08-12T22:04:33.386283Z",
     "shell.execute_reply": "2023-08-12T22:04:33.385552Z"
    },
    "papermill": {
     "duration": 0.11928,
     "end_time": "2023-08-12T22:04:33.388310",
     "exception": false,
     "start_time": "2023-08-12T22:04:33.269030",
     "status": "completed"
    },
    "tags": []
   },
   "outputs": [
    {
     "ename": "",
     "evalue": "",
     "output_type": "error",
     "traceback": [
      "\u001b[1;31mFailed to start the Kernel. \n",
      "\u001b[1;31mUnable to start Kernel 'anaconda (Python 3.11.4)' due to a timeout waiting for the ports to get used. \n",
      "\u001b[1;31mView Jupyter <a href='command:jupyter.viewOutput'>log</a> for further details."
     ]
    }
   ],
   "source": [
    "loan.loc[(loan['loan_term'] <=4) & (loan['loan_status'] ==' Rejected')].sort_values(['loan_amount']).head(10)"
   ]
  },
  {
   "cell_type": "markdown",
   "id": "2ef57d72",
   "metadata": {
    "papermill": {
     "duration": 0.093843,
     "end_time": "2023-08-12T22:04:33.576921",
     "exception": false,
     "start_time": "2023-08-12T22:04:33.483078",
     "status": "completed"
    },
    "tags": []
   },
   "source": [
    "The low credit scores should be one of the most important reasons that the applications have been rejected, another reason can be the annual income since most of the applicants in this subset (group) have the annual income lower than the median (5100000). Other than those 2 reasons, I guess the number of the dependents can also be a reason for rejection (in this subset, the number of dependents are all more than 2), especially when the applicants have lower annual income. "
   ]
  },
  {
   "cell_type": "markdown",
   "id": "9843e02d",
   "metadata": {
    "papermill": {
     "duration": 0.094726,
     "end_time": "2023-08-12T22:04:33.766544",
     "exception": false,
     "start_time": "2023-08-12T22:04:33.671818",
     "status": "completed"
    },
    "tags": []
   },
   "source": [
    "Let's discover the insights of number of dependents!"
   ]
  },
  {
   "cell_type": "markdown",
   "id": "cb41a345",
   "metadata": {
    "papermill": {
     "duration": 0.094582,
     "end_time": "2023-08-12T22:04:33.955544",
     "exception": false,
     "start_time": "2023-08-12T22:04:33.860962",
     "status": "completed"
    },
    "tags": []
   },
   "source": [
    "#### 5. Number of dependents"
   ]
  },
  {
   "cell_type": "markdown",
   "id": "7d4432e9",
   "metadata": {
    "papermill": {
     "duration": 0.0934,
     "end_time": "2023-08-12T22:04:34.142828",
     "exception": false,
     "start_time": "2023-08-12T22:04:34.049428",
     "status": "completed"
    },
    "tags": []
   },
   "source": [
    "Let's firstly see the distribution of this variable."
   ]
  },
  {
   "cell_type": "code",
   "execution_count": null,
   "id": "7e2b5c45",
   "metadata": {
    "execution": {
     "iopub.execute_input": "2023-08-12T22:04:34.389292Z",
     "iopub.status.busy": "2023-08-12T22:04:34.388473Z",
     "iopub.status.idle": "2023-08-12T22:04:34.664932Z",
     "shell.execute_reply": "2023-08-12T22:04:34.663742Z"
    },
    "papermill": {
     "duration": 0.375342,
     "end_time": "2023-08-12T22:04:34.667281",
     "exception": false,
     "start_time": "2023-08-12T22:04:34.291939",
     "status": "completed"
    },
    "tags": []
   },
   "outputs": [
    {
     "ename": "",
     "evalue": "",
     "output_type": "error",
     "traceback": [
      "\u001b[1;31mFailed to start the Kernel. \n",
      "\u001b[1;31mUnable to start Kernel 'anaconda (Python 3.11.4)' due to a timeout waiting for the ports to get used. \n",
      "\u001b[1;31mView Jupyter <a href='command:jupyter.viewOutput'>log</a> for further details."
     ]
    }
   ],
   "source": [
    "plt.figure(figsize = (5,3))\n",
    "sns.histplot(loan['no_of_dependents'])\n",
    "plt.xlabel(\"Number of dependents\")\n",
    "plt.title(\"Histogram of Number of dependents\")\n",
    "\n",
    "plt.show()"
   ]
  },
  {
   "cell_type": "markdown",
   "id": "5549d080",
   "metadata": {
    "papermill": {
     "duration": 0.094085,
     "end_time": "2023-08-12T22:04:34.855859",
     "exception": false,
     "start_time": "2023-08-12T22:04:34.761774",
     "status": "completed"
    },
    "tags": []
   },
   "source": [
    "It is surprising to see the `no_of_dependents` can be discretized so well, it is going to be a big benefit of our analyzing process later.\n",
    "<br>\n",
    "Let's take a look at if the number of dependents have any relationship with the loan status by using the crosstab function."
   ]
  },
  {
   "cell_type": "code",
   "execution_count": null,
   "id": "6e63a0aa",
   "metadata": {
    "execution": {
     "iopub.execute_input": "2023-08-12T22:04:35.046915Z",
     "iopub.status.busy": "2023-08-12T22:04:35.046097Z",
     "iopub.status.idle": "2023-08-12T22:04:35.071224Z",
     "shell.execute_reply": "2023-08-12T22:04:35.070110Z"
    },
    "papermill": {
     "duration": 0.123019,
     "end_time": "2023-08-12T22:04:35.073400",
     "exception": false,
     "start_time": "2023-08-12T22:04:34.950381",
     "status": "completed"
    },
    "tags": []
   },
   "outputs": [
    {
     "ename": "",
     "evalue": "",
     "output_type": "error",
     "traceback": [
      "\u001b[1;31mFailed to start the Kernel. \n",
      "\u001b[1;31mUnable to start Kernel 'anaconda (Python 3.11.4)' due to a timeout waiting for the ports to get used. \n",
      "\u001b[1;31mView Jupyter <a href='command:jupyter.viewOutput'>log</a> for further details."
     ]
    }
   ],
   "source": [
    "cross_dependents = pd.crosstab(index=loan['no_of_dependents'], columns=loan['loan_status'])\n",
    "cross_dependents['Approved_percentage'] = (cross_dependents[' Approved']/(cross_dependents[' Approved'] + cross_dependents[' Rejected'])) * 100\n",
    "cross_dependents['Rejected_percentage'] = (cross_dependents[' Rejected']/(cross_dependents[' Approved'] + cross_dependents[' Rejected'])) * 100\n",
    "cross_dependents"
   ]
  },
  {
   "cell_type": "code",
   "execution_count": null,
   "id": "7c829a74",
   "metadata": {
    "execution": {
     "iopub.execute_input": "2023-08-12T22:04:35.266064Z",
     "iopub.status.busy": "2023-08-12T22:04:35.265438Z",
     "iopub.status.idle": "2023-08-12T22:04:35.859125Z",
     "shell.execute_reply": "2023-08-12T22:04:35.857999Z"
    },
    "papermill": {
     "duration": 0.692503,
     "end_time": "2023-08-12T22:04:35.861514",
     "exception": false,
     "start_time": "2023-08-12T22:04:35.169011",
     "status": "completed"
    },
    "tags": []
   },
   "outputs": [
    {
     "ename": "",
     "evalue": "",
     "output_type": "error",
     "traceback": [
      "\u001b[1;31mFailed to start the Kernel. \n",
      "\u001b[1;31mUnable to start Kernel 'anaconda (Python 3.11.4)' due to a timeout waiting for the ports to get used. \n",
      "\u001b[1;31mView Jupyter <a href='command:jupyter.viewOutput'>log</a> for further details."
     ]
    }
   ],
   "source": [
    "palette = sns.color_palette(\"husl\")\n",
    "\n",
    "plt.figure(figsize = (6,4))\n",
    "sns.lineplot(data=cross_dependents, dashes=False, markers=\"o\", palette=palette)\n",
    "plt.ylabel(\"Count\")\n",
    "plt.xlabel(\"Number of Dependents\")\n",
    "plt.legend(bbox_to_anchor=(1.05, 1.0), loc='upper left')\n",
    "plt.show()"
   ]
  },
  {
   "cell_type": "markdown",
   "id": "6a2e0a54",
   "metadata": {
    "papermill": {
     "duration": 0.094749,
     "end_time": "2023-08-12T22:04:36.052665",
     "exception": false,
     "start_time": "2023-08-12T22:04:35.957916",
     "status": "completed"
    },
    "tags": []
   },
   "source": [
    "By checking the line chart above which presents the percentage of the applicants being approved or rejected by the number of dependents, we see 2 percentage lines are very evenly, even though we can see a wave over the \"approved\" line, it might be because of the total number of the applicants. So I have to reject my guess and conclude that we are not able to see an obvious trend between `no_of_dependents` and `loan_status`."
   ]
  },
  {
   "cell_type": "markdown",
   "id": "5a56c5cd",
   "metadata": {
    "papermill": {
     "duration": 0.094613,
     "end_time": "2023-08-12T22:04:36.243488",
     "exception": false,
     "start_time": "2023-08-12T22:04:36.148875",
     "status": "completed"
    },
    "tags": []
   },
   "source": [
    "#### 6. Education"
   ]
  },
  {
   "cell_type": "code",
   "execution_count": null,
   "id": "17fb56ad",
   "metadata": {
    "execution": {
     "iopub.execute_input": "2023-08-12T22:04:36.440711Z",
     "iopub.status.busy": "2023-08-12T22:04:36.440331Z",
     "iopub.status.idle": "2023-08-12T22:04:36.695477Z",
     "shell.execute_reply": "2023-08-12T22:04:36.694586Z"
    },
    "papermill": {
     "duration": 0.359255,
     "end_time": "2023-08-12T22:04:36.697708",
     "exception": false,
     "start_time": "2023-08-12T22:04:36.338453",
     "status": "completed"
    },
    "tags": []
   },
   "outputs": [
    {
     "ename": "",
     "evalue": "",
     "output_type": "error",
     "traceback": [
      "\u001b[1;31mFailed to start the Kernel. \n",
      "\u001b[1;31mUnable to start Kernel 'anaconda (Python 3.11.4)' due to a timeout waiting for the ports to get used. \n",
      "\u001b[1;31mView Jupyter <a href='command:jupyter.viewOutput'>log</a> for further details."
     ]
    }
   ],
   "source": [
    "plt.figure(figsize = (6,4))\n",
    "sns.countplot(loan, x='education', hue='loan_status')\n",
    "plt.xlabel(\"Education\")\n",
    "plt.title(\"Counts for education\")\n",
    "\n",
    "plt.show()"
   ]
  },
  {
   "cell_type": "markdown",
   "id": "ac5bd5b8",
   "metadata": {
    "papermill": {
     "duration": 0.103579,
     "end_time": "2023-08-12T22:04:36.903086",
     "exception": false,
     "start_time": "2023-08-12T22:04:36.799507",
     "status": "completed"
    },
    "tags": []
   },
   "source": [
    "The counts based on different education status are approximately the same. \n",
    "<br>\n",
    "In addition, on the description page of this dataset, \"`education`: Education of the Applicant (Graduate/Not Graduate)\". We have to put a question mark here, if the education means high-school education or college education?\n",
    "<br>\n",
    "Then, we are curious about whether education affects any of the variables here."
   ]
  },
  {
   "cell_type": "code",
   "execution_count": null,
   "id": "5540df39",
   "metadata": {
    "execution": {
     "iopub.execute_input": "2023-08-12T22:04:37.105504Z",
     "iopub.status.busy": "2023-08-12T22:04:37.104749Z",
     "iopub.status.idle": "2023-08-12T22:04:37.142412Z",
     "shell.execute_reply": "2023-08-12T22:04:37.141401Z"
    },
    "papermill": {
     "duration": 0.142761,
     "end_time": "2023-08-12T22:04:37.145313",
     "exception": false,
     "start_time": "2023-08-12T22:04:37.002552",
     "status": "completed"
    },
    "tags": []
   },
   "outputs": [
    {
     "ename": "",
     "evalue": "",
     "output_type": "error",
     "traceback": [
      "\u001b[1;31mFailed to start the Kernel. \n",
      "\u001b[1;31mUnable to start Kernel 'anaconda (Python 3.11.4)' due to a timeout waiting for the ports to get used. \n",
      "\u001b[1;31mView Jupyter <a href='command:jupyter.viewOutput'>log</a> for further details."
     ]
    }
   ],
   "source": [
    "education = loan.groupby([\"education\"], as_index=False).agg(\n",
    "    count_by_education=(\"education\", \"count\"),\n",
    "    median_annual_income=(\"income_annum\", \"median\"),\n",
    "    average_loan_amount=(\"loan_amount\", \"mean\"), \n",
    "    average_credit_score = (\"cibil_score\", \"mean\"),\n",
    "    average_loan_term = (\"loan_term\", \"mean\"),\n",
    "    avg_residential_value = ('residential_assets_value', \"mean\"),\n",
    "    avg_commerical_value = ( 'commercial_assets_value', \"mean\"),\n",
    "    avg_luxury_value = ( 'luxury_assets_value', \"mean\"),\n",
    "    avg_bank_value = ('bank_asset_value', \"mean\")\n",
    "    \n",
    ").round(2).reset_index(drop=True)\n",
    "\n",
    "education"
   ]
  },
  {
   "cell_type": "markdown",
   "id": "94df7c8f",
   "metadata": {
    "papermill": {
     "duration": 0.096877,
     "end_time": "2023-08-12T22:04:37.338748",
     "exception": false,
     "start_time": "2023-08-12T22:04:37.241871",
     "status": "completed"
    },
    "tags": []
   },
   "source": [
    "By creating a sub-table, we can say there are no significant differences between the `education` and other variables in this dataset."
   ]
  },
  {
   "cell_type": "markdown",
   "id": "0018d72e",
   "metadata": {
    "papermill": {
     "duration": 0.095868,
     "end_time": "2023-08-12T22:04:37.532132",
     "exception": false,
     "start_time": "2023-08-12T22:04:37.436264",
     "status": "completed"
    },
    "tags": []
   },
   "source": [
    "#### 7. Self Employed"
   ]
  },
  {
   "cell_type": "code",
   "execution_count": null,
   "id": "1bb70874",
   "metadata": {
    "execution": {
     "iopub.execute_input": "2023-08-12T22:04:37.730439Z",
     "iopub.status.busy": "2023-08-12T22:04:37.729142Z",
     "iopub.status.idle": "2023-08-12T22:04:37.765725Z",
     "shell.execute_reply": "2023-08-12T22:04:37.764577Z"
    },
    "papermill": {
     "duration": 0.138159,
     "end_time": "2023-08-12T22:04:37.767925",
     "exception": false,
     "start_time": "2023-08-12T22:04:37.629766",
     "status": "completed"
    },
    "tags": []
   },
   "outputs": [
    {
     "ename": "",
     "evalue": "",
     "output_type": "error",
     "traceback": [
      "\u001b[1;31mFailed to start the Kernel. \n",
      "\u001b[1;31mUnable to start Kernel 'anaconda (Python 3.11.4)' due to a timeout waiting for the ports to get used. \n",
      "\u001b[1;31mView Jupyter <a href='command:jupyter.viewOutput'>log</a> for further details."
     ]
    }
   ],
   "source": [
    "self_employed = loan.groupby([\"self_employed\"], as_index=False).agg(\n",
    "    count=(\"education\", \"count\"),\n",
    "    median_annual_income=(\"income_annum\", \"median\"),\n",
    "    average_loan_amount=(\"loan_amount\", \"mean\"), \n",
    "    average_credit_score = (\"cibil_score\", \"mean\"),\n",
    "    average_loan_term = (\"loan_term\", \"mean\"),\n",
    "    avg_residential_value = ('residential_assets_value', \"mean\"),\n",
    "    avg_commerical_value = ( 'commercial_assets_value', \"mean\"),\n",
    "    avg_luxury_value = ( 'luxury_assets_value', \"mean\"),\n",
    "    avg_bank_value = ('bank_asset_value', \"mean\")\n",
    "    \n",
    ").round(2).reset_index(drop=True)\n",
    "\n",
    "self_employed"
   ]
  },
  {
   "cell_type": "markdown",
   "id": "dc27f439",
   "metadata": {
    "papermill": {
     "duration": 0.097199,
     "end_time": "2023-08-12T22:04:37.962233",
     "exception": false,
     "start_time": "2023-08-12T22:04:37.865034",
     "status": "completed"
    },
    "tags": []
   },
   "source": [
    "Same thing as the `self_employed` -  there are no significant differences between the `self_employed` and other variables in this dataset."
   ]
  },
  {
   "cell_type": "markdown",
   "id": "2e02bce0",
   "metadata": {
    "papermill": {
     "duration": 0.09696,
     "end_time": "2023-08-12T22:04:38.156399",
     "exception": false,
     "start_time": "2023-08-12T22:04:38.059439",
     "status": "completed"
    },
    "tags": []
   },
   "source": [
    "Even though we didn't find the strong relationship between `no_of_dependent`, `education`, `self_employed` and other variables in this dataset, we are still willing to discover more by using different techniques."
   ]
  },
  {
   "cell_type": "markdown",
   "id": "b78e7fdb",
   "metadata": {
    "papermill": {
     "duration": 0.097423,
     "end_time": "2023-08-12T22:04:38.351291",
     "exception": false,
     "start_time": "2023-08-12T22:04:38.253868",
     "status": "completed"
    },
    "tags": []
   },
   "source": [
    "## Statistical Tests"
   ]
  },
  {
   "cell_type": "markdown",
   "id": "8a085504",
   "metadata": {
    "papermill": {
     "duration": 0.098302,
     "end_time": "2023-08-12T22:04:38.547365",
     "exception": false,
     "start_time": "2023-08-12T22:04:38.449063",
     "status": "completed"
    },
    "tags": []
   },
   "source": [
    "In the previous sections, we have concluded `no_of_dependents`, `education` and `self_employed` don't have a significant relationship with `loan_status` or other variables. In order to confirm it, let's run some statistical tests and see if that is true."
   ]
  },
  {
   "cell_type": "markdown",
   "id": "d2c073fe",
   "metadata": {
    "papermill": {
     "duration": 0.096398,
     "end_time": "2023-08-12T22:04:38.742419",
     "exception": false,
     "start_time": "2023-08-12T22:04:38.646021",
     "status": "completed"
    },
    "tags": []
   },
   "source": [
    "### Chi-square Tests"
   ]
  },
  {
   "cell_type": "markdown",
   "id": "e9442bc8",
   "metadata": {
    "papermill": {
     "duration": 0.096689,
     "end_time": "2023-08-12T22:04:38.935490",
     "exception": false,
     "start_time": "2023-08-12T22:04:38.838801",
     "status": "completed"
    },
    "tags": []
   },
   "source": [
    "The null hypothesis for the Chi-Square test is that the two variables are independent, meaning that there's no relationship between them. If the p-value is below a chosen significance level (0.05), we would reject the null hypothesis, indicating that there is a significant association between two variables."
   ]
  },
  {
   "cell_type": "markdown",
   "id": "0f8094cd",
   "metadata": {
    "papermill": {
     "duration": 0.095726,
     "end_time": "2023-08-12T22:04:39.128079",
     "exception": false,
     "start_time": "2023-08-12T22:04:39.032353",
     "status": "completed"
    },
    "tags": []
   },
   "source": [
    "1. `no_of_dependents` and `loan_status`"
   ]
  },
  {
   "cell_type": "code",
   "execution_count": null,
   "id": "3088621c",
   "metadata": {
    "execution": {
     "iopub.execute_input": "2023-08-12T22:04:39.324719Z",
     "iopub.status.busy": "2023-08-12T22:04:39.324290Z",
     "iopub.status.idle": "2023-08-12T22:04:39.342709Z",
     "shell.execute_reply": "2023-08-12T22:04:39.341862Z"
    },
    "papermill": {
     "duration": 0.120193,
     "end_time": "2023-08-12T22:04:39.344694",
     "exception": false,
     "start_time": "2023-08-12T22:04:39.224501",
     "status": "completed"
    },
    "tags": []
   },
   "outputs": [
    {
     "ename": "",
     "evalue": "",
     "output_type": "error",
     "traceback": [
      "\u001b[1;31mFailed to start the Kernel. \n",
      "\u001b[1;31mUnable to start Kernel 'anaconda (Python 3.11.4)' due to a timeout waiting for the ports to get used. \n",
      "\u001b[1;31mView Jupyter <a href='command:jupyter.viewOutput'>log</a> for further details."
     ]
    }
   ],
   "source": [
    "contingency_dependents = pd.crosstab(loan['no_of_dependents'], loan['loan_status'])\n",
    "\n",
    "# Perform Chi-Square test\n",
    "chi2_dependents, p_dependents, dof_dependents, expected_dependents = stats.chi2_contingency(contingency_dependents)\n",
    "\n",
    "# Print the results\n",
    "print(\"Chi-Square Value:\", chi2_dependents)\n",
    "print(\"p-value:\", p_dependents)\n",
    "print(\"Degrees of Freedom:\", dof_dependents)\n",
    "print(\"Expected Frequencies Table:\")\n",
    "print(expected_dependents)\n"
   ]
  },
  {
   "cell_type": "markdown",
   "id": "3fcecea2",
   "metadata": {
    "papermill": {
     "duration": 0.114399,
     "end_time": "2023-08-12T22:04:39.555965",
     "exception": false,
     "start_time": "2023-08-12T22:04:39.441566",
     "status": "completed"
    },
    "tags": []
   },
   "source": [
    "The p-value is 0.78, it indicates that there's no significant evidence to reject the null hypothesis. In other words, based on the Chi-Square test, there's no significant association between the `no_of_dependents` variable and the `loan_status` variable in the dataset.The data does not provide enough evidence to conclude that there is a meaningful relationship between the number of dependents and the loan approval status. The p-value of 0.78 suggests that any observed differences in the distribution of `no_of_dependents` between the two groups (Approved and Rejected) could very well have occurred by chance."
   ]
  },
  {
   "cell_type": "markdown",
   "id": "bdb4a2a4",
   "metadata": {
    "papermill": {
     "duration": 0.096349,
     "end_time": "2023-08-12T22:04:39.751087",
     "exception": false,
     "start_time": "2023-08-12T22:04:39.654738",
     "status": "completed"
    },
    "tags": []
   },
   "source": [
    "2. `education` and `loan_status`"
   ]
  },
  {
   "cell_type": "code",
   "execution_count": null,
   "id": "d03eb0ea",
   "metadata": {
    "execution": {
     "iopub.execute_input": "2023-08-12T22:04:39.945787Z",
     "iopub.status.busy": "2023-08-12T22:04:39.944949Z",
     "iopub.status.idle": "2023-08-12T22:04:39.962915Z",
     "shell.execute_reply": "2023-08-12T22:04:39.961576Z"
    },
    "papermill": {
     "duration": 0.117589,
     "end_time": "2023-08-12T22:04:39.965322",
     "exception": false,
     "start_time": "2023-08-12T22:04:39.847733",
     "status": "completed"
    },
    "tags": []
   },
   "outputs": [
    {
     "ename": "",
     "evalue": "",
     "output_type": "error",
     "traceback": [
      "\u001b[1;31mFailed to start the Kernel. \n",
      "\u001b[1;31mUnable to start Kernel 'anaconda (Python 3.11.4)' due to a timeout waiting for the ports to get used. \n",
      "\u001b[1;31mView Jupyter <a href='command:jupyter.viewOutput'>log</a> for further details."
     ]
    }
   ],
   "source": [
    "contingency_education = pd.crosstab(loan['education'], loan['loan_status'])\n",
    "\n",
    "chi2_education, p_education, dof_education, expected_education = stats.chi2_contingency(contingency_education)\n",
    "\n",
    "print(\"Chi-Square Value:\", chi2_education)\n",
    "print(\"p-value:\", p_education)\n",
    "print(\"Degrees of Freedom:\", dof_education)\n",
    "print(\"Expected Frequencies Table:\")\n",
    "print(expected_education)\n"
   ]
  },
  {
   "cell_type": "markdown",
   "id": "d517c661",
   "metadata": {
    "papermill": {
     "duration": 0.098914,
     "end_time": "2023-08-12T22:04:40.161452",
     "exception": false,
     "start_time": "2023-08-12T22:04:40.062538",
     "status": "completed"
    },
    "tags": []
   },
   "source": [
    "The p-value is 0.77, it indicates that there's no significant evidence to reject the null hypothesis. In other words, based on the Chi-Square test, there's no significant association between the `education` variable and the `loan_status` variable in the dataset.The data does not provide enough evidence to conclude that there is a meaningful relationship between education and the loan approval status. The p-value of 0.77 suggests that any observed differences in the distribution of `education` between the two groups (Approved and Rejected) could very well have occurred by chance."
   ]
  },
  {
   "cell_type": "markdown",
   "id": "b008e94e",
   "metadata": {
    "papermill": {
     "duration": 0.098448,
     "end_time": "2023-08-12T22:04:40.357509",
     "exception": false,
     "start_time": "2023-08-12T22:04:40.259061",
     "status": "completed"
    },
    "tags": []
   },
   "source": [
    "3. `self_employed` and `loan_status`"
   ]
  },
  {
   "cell_type": "code",
   "execution_count": null,
   "id": "3433cb33",
   "metadata": {
    "execution": {
     "iopub.execute_input": "2023-08-12T22:04:40.557870Z",
     "iopub.status.busy": "2023-08-12T22:04:40.557039Z",
     "iopub.status.idle": "2023-08-12T22:04:40.575493Z",
     "shell.execute_reply": "2023-08-12T22:04:40.574213Z"
    },
    "papermill": {
     "duration": 0.121852,
     "end_time": "2023-08-12T22:04:40.577828",
     "exception": false,
     "start_time": "2023-08-12T22:04:40.455976",
     "status": "completed"
    },
    "tags": []
   },
   "outputs": [
    {
     "ename": "",
     "evalue": "",
     "output_type": "error",
     "traceback": [
      "\u001b[1;31mFailed to start the Kernel. \n",
      "\u001b[1;31mUnable to start Kernel 'anaconda (Python 3.11.4)' due to a timeout waiting for the ports to get used. \n",
      "\u001b[1;31mView Jupyter <a href='command:jupyter.viewOutput'>log</a> for further details."
     ]
    }
   ],
   "source": [
    "contingency_self_employed = pd.crosstab(loan['self_employed'], loan['loan_status'])\n",
    "\n",
    "chi2_self_employed, p_self_employed, dof_self_employed, expected_self_employed = stats.chi2_contingency(contingency_self_employed)\n",
    "\n",
    "print(\"Chi-Square Value:\", chi2_self_employed)\n",
    "print(\"p-value:\", p_self_employed)\n",
    "print(\"Degrees of Freedom:\", dof_self_employed)\n",
    "print(\"Expected Frequencies Table:\")\n",
    "print(expected_self_employed)"
   ]
  },
  {
   "cell_type": "markdown",
   "id": "bc74ca67",
   "metadata": {
    "papermill": {
     "duration": 0.097286,
     "end_time": "2023-08-12T22:04:40.772696",
     "exception": false,
     "start_time": "2023-08-12T22:04:40.675410",
     "status": "completed"
    },
    "tags": []
   },
   "source": [
    "The p-value is 1, it indicates that there's no significant evidence to reject the null hypothesis. In other words, based on the Chi-Square test, there's no significant association between the `self_employed` variable and the `loan_status` variable in the dataset.The data does not provide enough evidence to conclude that there is a meaningful relationship between being self employed and the loan approval status. The p-value of 1 suggests that any observed differences in the distribution of `self_employed` between the two groups (Approved and Rejected) could very well have occurred by chance."
   ]
  },
  {
   "cell_type": "markdown",
   "id": "1f5a1e4b",
   "metadata": {
    "papermill": {
     "duration": 0.097661,
     "end_time": "2023-08-12T22:04:40.967547",
     "exception": false,
     "start_time": "2023-08-12T22:04:40.869886",
     "status": "completed"
    },
    "tags": []
   },
   "source": [
    "### ANOVA"
   ]
  },
  {
   "cell_type": "markdown",
   "id": "ff9dc5ba",
   "metadata": {
    "papermill": {
     "duration": 0.097691,
     "end_time": "2023-08-12T22:04:41.163571",
     "exception": false,
     "start_time": "2023-08-12T22:04:41.065880",
     "status": "completed"
    },
    "tags": []
   },
   "source": [
    "After confirming `no_of_dependents`, `education` and `self_employed` don't have a significant relationship with `loan_status`, we want to do one more test using ANOVA technique."
   ]
  },
  {
   "cell_type": "markdown",
   "id": "d75929d7",
   "metadata": {
    "papermill": {
     "duration": 0.09753,
     "end_time": "2023-08-12T22:04:41.358516",
     "exception": false,
     "start_time": "2023-08-12T22:04:41.260986",
     "status": "completed"
    },
    "tags": []
   },
   "source": [
    "We'd like to perform a ANOVA test by using `loan_amount` (numerical) as dependent variable, and independent variables: `no_of_dependents` (categorical), `education`(categorical) and `self_employed`(categorical). We will see how the categorical variables `no_of_dependents`, `education`, and `self_employed` might collectively impact the `loan_amount` (numerical) in an ANOVA framework. This approach can help us understand whether there are statistically significant differences in `loan_amount` based on different combinations of these categorical factors."
   ]
  },
  {
   "cell_type": "code",
   "execution_count": null,
   "id": "f55f2023",
   "metadata": {
    "execution": {
     "iopub.execute_input": "2023-08-12T22:04:41.562786Z",
     "iopub.status.busy": "2023-08-12T22:04:41.562341Z",
     "iopub.status.idle": "2023-08-12T22:04:41.568192Z",
     "shell.execute_reply": "2023-08-12T22:04:41.567407Z"
    },
    "papermill": {
     "duration": 0.111316,
     "end_time": "2023-08-12T22:04:41.570288",
     "exception": false,
     "start_time": "2023-08-12T22:04:41.458972",
     "status": "completed"
    },
    "tags": []
   },
   "outputs": [
    {
     "ename": "",
     "evalue": "",
     "output_type": "error",
     "traceback": [
      "\u001b[1;31mFailed to start the Kernel. \n",
      "\u001b[1;31mUnable to start Kernel 'anaconda (Python 3.11.4)' due to a timeout waiting for the ports to get used. \n",
      "\u001b[1;31mView Jupyter <a href='command:jupyter.viewOutput'>log</a> for further details."
     ]
    }
   ],
   "source": [
    "# Create subset\n",
    "\n",
    "ols_data = loan[['loan_amount','no_of_dependents','education','self_employed']]\n",
    "ols_formula = \"loan_amount ~ C(no_of_dependents) + C(education) + C(self_employed)\""
   ]
  },
  {
   "cell_type": "code",
   "execution_count": null,
   "id": "1dc256ae",
   "metadata": {
    "execution": {
     "iopub.execute_input": "2023-08-12T22:04:41.768905Z",
     "iopub.status.busy": "2023-08-12T22:04:41.767788Z",
     "iopub.status.idle": "2023-08-12T22:04:41.863411Z",
     "shell.execute_reply": "2023-08-12T22:04:41.862230Z"
    },
    "papermill": {
     "duration": 0.198727,
     "end_time": "2023-08-12T22:04:41.866414",
     "exception": false,
     "start_time": "2023-08-12T22:04:41.667687",
     "status": "completed"
    },
    "tags": []
   },
   "outputs": [
    {
     "ename": "",
     "evalue": "",
     "output_type": "error",
     "traceback": [
      "\u001b[1;31mFailed to start the Kernel. \n",
      "\u001b[1;31mUnable to start Kernel 'anaconda (Python 3.11.4)' due to a timeout waiting for the ports to get used. \n",
      "\u001b[1;31mView Jupyter <a href='command:jupyter.viewOutput'>log</a> for further details."
     ]
    }
   ],
   "source": [
    "OLS = ols(formula = ols_formula, data = ols_data)\n",
    "ols_model = OLS.fit()"
   ]
  },
  {
   "cell_type": "markdown",
   "id": "fb98b2c9",
   "metadata": {
    "papermill": {
     "duration": 0.102051,
     "end_time": "2023-08-12T22:04:42.125477",
     "exception": false,
     "start_time": "2023-08-12T22:04:42.023426",
     "status": "completed"
    },
    "tags": []
   },
   "source": [
    "Let's firstly check the assumptions:"
   ]
  },
  {
   "cell_type": "markdown",
   "id": "86221d16",
   "metadata": {
    "papermill": {
     "duration": 0.097922,
     "end_time": "2023-08-12T22:04:42.320931",
     "exception": false,
     "start_time": "2023-08-12T22:04:42.223009",
     "status": "completed"
    },
    "tags": []
   },
   "source": [
    "1. Linearity"
   ]
  },
  {
   "cell_type": "markdown",
   "id": "51835c96",
   "metadata": {
    "papermill": {
     "duration": 0.099212,
     "end_time": "2023-08-12T22:04:42.517386",
     "exception": false,
     "start_time": "2023-08-12T22:04:42.418174",
     "status": "completed"
    },
    "tags": []
   },
   "source": [
    "Since `no_of_dependents`, `education`, and `self_employed` are all categorical variables, checking for linearity of the dependent variable (`loan_amount` in this case) is not as crucial as it would be when we're dealing with continuous independent variables. The main focus is on how the different categories of the categorical variables relate to variations in the dependent variable."
   ]
  },
  {
   "cell_type": "markdown",
   "id": "5f8bd88c",
   "metadata": {
    "papermill": {
     "duration": 0.09749,
     "end_time": "2023-08-12T22:04:42.713220",
     "exception": false,
     "start_time": "2023-08-12T22:04:42.615730",
     "status": "completed"
    },
    "tags": []
   },
   "source": [
    "2. Normality "
   ]
  },
  {
   "cell_type": "code",
   "execution_count": null,
   "id": "9f26aa60",
   "metadata": {
    "execution": {
     "iopub.execute_input": "2023-08-12T22:04:42.912954Z",
     "iopub.status.busy": "2023-08-12T22:04:42.912358Z",
     "iopub.status.idle": "2023-08-12T22:04:42.960395Z",
     "shell.execute_reply": "2023-08-12T22:04:42.958847Z"
    },
    "papermill": {
     "duration": 0.154635,
     "end_time": "2023-08-12T22:04:42.965237",
     "exception": false,
     "start_time": "2023-08-12T22:04:42.810602",
     "status": "completed"
    },
    "tags": []
   },
   "outputs": [
    {
     "ename": "",
     "evalue": "",
     "output_type": "error",
     "traceback": [
      "\u001b[1;31mFailed to start the Kernel. \n",
      "\u001b[1;31mUnable to start Kernel 'anaconda (Python 3.11.4)' due to a timeout waiting for the ports to get used. \n",
      "\u001b[1;31mView Jupyter <a href='command:jupyter.viewOutput'>log</a> for further details."
     ]
    }
   ],
   "source": [
    "X_ols = ols_data[['no_of_dependents','education','self_employed']]\n",
    "\n",
    "fitted_values = ols_model.predict(X_ols)"
   ]
  },
  {
   "cell_type": "code",
   "execution_count": null,
   "id": "a7857471",
   "metadata": {
    "execution": {
     "iopub.execute_input": "2023-08-12T22:04:43.226869Z",
     "iopub.status.busy": "2023-08-12T22:04:43.226466Z",
     "iopub.status.idle": "2023-08-12T22:04:43.235782Z",
     "shell.execute_reply": "2023-08-12T22:04:43.234329Z"
    },
    "papermill": {
     "duration": 0.116498,
     "end_time": "2023-08-12T22:04:43.239537",
     "exception": false,
     "start_time": "2023-08-12T22:04:43.123039",
     "status": "completed"
    },
    "tags": []
   },
   "outputs": [
    {
     "ename": "",
     "evalue": "",
     "output_type": "error",
     "traceback": [
      "\u001b[1;31mFailed to start the Kernel. \n",
      "\u001b[1;31mUnable to start Kernel 'anaconda (Python 3.11.4)' due to a timeout waiting for the ports to get used. \n",
      "\u001b[1;31mView Jupyter <a href='command:jupyter.viewOutput'>log</a> for further details."
     ]
    }
   ],
   "source": [
    "residuals = ols_model.resid"
   ]
  },
  {
   "cell_type": "code",
   "execution_count": null,
   "id": "081ba182",
   "metadata": {
    "execution": {
     "iopub.execute_input": "2023-08-12T22:04:43.498393Z",
     "iopub.status.busy": "2023-08-12T22:04:43.497941Z",
     "iopub.status.idle": "2023-08-12T22:04:44.177483Z",
     "shell.execute_reply": "2023-08-12T22:04:44.176305Z"
    },
    "papermill": {
     "duration": 0.784813,
     "end_time": "2023-08-12T22:04:44.179967",
     "exception": false,
     "start_time": "2023-08-12T22:04:43.395154",
     "status": "completed"
    },
    "tags": []
   },
   "outputs": [
    {
     "ename": "",
     "evalue": "",
     "output_type": "error",
     "traceback": [
      "\u001b[1;31mFailed to start the Kernel. \n",
      "\u001b[1;31mUnable to start Kernel 'anaconda (Python 3.11.4)' due to a timeout waiting for the ports to get used. \n",
      "\u001b[1;31mView Jupyter <a href='command:jupyter.viewOutput'>log</a> for further details."
     ]
    }
   ],
   "source": [
    "fig, axes = plt.subplots(1, 2, figsize = (8,4))\n",
    "\n",
    "sns.histplot(residuals, ax=axes[0])\n",
    "axes[0].set_xlabel(\"Residual Value\")\n",
    "axes[0].set_title(\"Histogram of Residuals\")\n",
    "axes[0].tick_params(axis='x', rotation=90)\n",
    "\n",
    "sm.qqplot(residuals, line='s',ax = axes[1])\n",
    "axes[1].set_title(\"Normal Q-Q plot\")\n",
    "\n",
    "plt.tight_layout()\n",
    "\n",
    "plt.show()\n"
   ]
  },
  {
   "cell_type": "markdown",
   "id": "852bbc7b",
   "metadata": {
    "papermill": {
     "duration": 0.101535,
     "end_time": "2023-08-12T22:04:44.379327",
     "exception": false,
     "start_time": "2023-08-12T22:04:44.277792",
     "status": "completed"
    },
    "tags": []
   },
   "source": [
    "As we see on the left plot, the distribution of the residuals is approximately a right skewed histogram. In the Q-Q plot on the right, there is a straight diagonal line going from the bottom left to the upper right of the Q-Q plot, and the blue markers in the Q-Q plot are relatively close to the red diagonal line and not deviating significantly, it suggests that the data is approximately normally distributed. "
   ]
  },
  {
   "cell_type": "markdown",
   "id": "7d76bf8d",
   "metadata": {
    "papermill": {
     "duration": 0.101715,
     "end_time": "2023-08-12T22:04:44.581942",
     "exception": false,
     "start_time": "2023-08-12T22:04:44.480227",
     "status": "completed"
    },
    "tags": []
   },
   "source": [
    "3. Independent observations"
   ]
  },
  {
   "cell_type": "markdown",
   "id": "99a1a231",
   "metadata": {
    "papermill": {
     "duration": 0.098383,
     "end_time": "2023-08-12T22:04:44.785123",
     "exception": false,
     "start_time": "2023-08-12T22:04:44.686740",
     "status": "completed"
    },
    "tags": []
   },
   "source": [
    "Combining our previous conclusions and the correlation score in the previous section, we assume all independent variables here (`no_of_dependents`, `education`, and `self_employed`) are independent from one another."
   ]
  },
  {
   "cell_type": "markdown",
   "id": "fa6ce296",
   "metadata": {
    "papermill": {
     "duration": 0.097851,
     "end_time": "2023-08-12T22:04:44.981399",
     "exception": false,
     "start_time": "2023-08-12T22:04:44.883548",
     "status": "completed"
    },
    "tags": []
   },
   "source": [
    "4. Homoscedasticity"
   ]
  },
  {
   "cell_type": "code",
   "execution_count": null,
   "id": "12d623d8",
   "metadata": {
    "execution": {
     "iopub.execute_input": "2023-08-12T22:04:45.179574Z",
     "iopub.status.busy": "2023-08-12T22:04:45.179152Z",
     "iopub.status.idle": "2023-08-12T22:04:45.507603Z",
     "shell.execute_reply": "2023-08-12T22:04:45.506425Z"
    },
    "papermill": {
     "duration": 0.430984,
     "end_time": "2023-08-12T22:04:45.510678",
     "exception": false,
     "start_time": "2023-08-12T22:04:45.079694",
     "status": "completed"
    },
    "tags": []
   },
   "outputs": [
    {
     "ename": "",
     "evalue": "",
     "output_type": "error",
     "traceback": [
      "\u001b[1;31mFailed to start the Kernel. \n",
      "\u001b[1;31mUnable to start Kernel 'anaconda (Python 3.11.4)' due to a timeout waiting for the ports to get used. \n",
      "\u001b[1;31mView Jupyter <a href='command:jupyter.viewOutput'>log</a> for further details."
     ]
    }
   ],
   "source": [
    "plt.figure(figsize = (6,4))\n",
    "fig = sns.scatterplot(x=fitted_values, y=residuals)\n",
    "\n",
    "# Add reference line at residuals = 0\n",
    "fig.axhline(0)\n",
    "plt.show()\n"
   ]
  },
  {
   "cell_type": "markdown",
   "id": "702117e7",
   "metadata": {
    "papermill": {
     "duration": 0.103561,
     "end_time": "2023-08-12T22:04:45.714361",
     "exception": false,
     "start_time": "2023-08-12T22:04:45.610800",
     "status": "completed"
    },
    "tags": []
   },
   "source": [
    "The data points seem to be scattered randomly across the line where residuals equal 0, the assumption is likely met."
   ]
  },
  {
   "cell_type": "markdown",
   "id": "42d83c4d",
   "metadata": {
    "papermill": {
     "duration": 0.09957,
     "end_time": "2023-08-12T22:04:45.913641",
     "exception": false,
     "start_time": "2023-08-12T22:04:45.814071",
     "status": "completed"
    },
    "tags": []
   },
   "source": [
    "Now we can run the ANVOA test!"
   ]
  },
  {
   "cell_type": "code",
   "execution_count": null,
   "id": "90ab2c86",
   "metadata": {
    "execution": {
     "iopub.execute_input": "2023-08-12T22:04:46.115486Z",
     "iopub.status.busy": "2023-08-12T22:04:46.115003Z",
     "iopub.status.idle": "2023-08-12T22:04:46.229919Z",
     "shell.execute_reply": "2023-08-12T22:04:46.228397Z"
    },
    "papermill": {
     "duration": 0.220557,
     "end_time": "2023-08-12T22:04:46.234072",
     "exception": false,
     "start_time": "2023-08-12T22:04:46.013515",
     "status": "completed"
    },
    "tags": []
   },
   "outputs": [
    {
     "ename": "",
     "evalue": "",
     "output_type": "error",
     "traceback": [
      "\u001b[1;31mFailed to start the Kernel. \n",
      "\u001b[1;31mUnable to start Kernel 'anaconda (Python 3.11.4)' due to a timeout waiting for the ports to get used. \n",
      "\u001b[1;31mView Jupyter <a href='command:jupyter.viewOutput'>log</a> for further details."
     ]
    }
   ],
   "source": [
    "anova = ols(formula = ols_formula, data = ols_data).fit()\n",
    "\n",
    "# Get the ANOVA summary\n",
    "anova_summary = sm.stats.anova_lm(anova, typ = 2)\n",
    "\n",
    "# Display the ANOVA summary\n",
    "print(anova_summary)\n"
   ]
  },
  {
   "cell_type": "markdown",
   "id": "971f37c7",
   "metadata": {
    "papermill": {
     "duration": 0.099703,
     "end_time": "2023-08-12T22:04:46.482012",
     "exception": false,
     "start_time": "2023-08-12T22:04:46.382309",
     "status": "completed"
    },
    "tags": []
   },
   "source": [
    "* `C(no_of_dependents)`:\n",
    "\n",
    "The p-value (0.645062) is greater than the common significance level of 0.05.\n",
    "This suggests that there is no significant evidence to reject the null hypothesis, indicating that the number of dependents does not have a significant relationship with the loan amount.\n",
    "\n",
    "* `C(education)`:\n",
    "\n",
    "The p-value (0.474059) is also greater than 0.05.\n",
    "Similar to the previous result, there's no significant evidence to suggest that education level has a significant relationship with the loan amount.\n",
    "\n",
    "* `C(self_employed)`:\n",
    "\n",
    "The p-value (0.948694) is way above 0.05.\n",
    "Once again, there's no significant evidence to indicate that being self-employed has a significant relationship with the loan amount.\n",
    "<br>\n",
    "* In all three cases, the p-values are above the common threshold of 0.05, suggesting that these categorical variables are not significantly associated with the loan amount based on the ANOVA tests."
   ]
  },
  {
   "cell_type": "markdown",
   "id": "030ba6b1",
   "metadata": {
    "papermill": {
     "duration": 0.101026,
     "end_time": "2023-08-12T22:04:46.684890",
     "exception": false,
     "start_time": "2023-08-12T22:04:46.583864",
     "status": "completed"
    },
    "tags": []
   },
   "source": [
    "## Construct"
   ]
  },
  {
   "cell_type": "markdown",
   "id": "691e0057",
   "metadata": {
    "papermill": {
     "duration": 0.099939,
     "end_time": "2023-08-12T22:04:46.885151",
     "exception": false,
     "start_time": "2023-08-12T22:04:46.785212",
     "status": "completed"
    },
    "tags": []
   },
   "source": [
    "We are now proceeding to the construct stage, which is the step for building a machine learning model. Before we start, we need to do some extra steps to make the variables ready for the following steps."
   ]
  },
  {
   "cell_type": "code",
   "execution_count": null,
   "id": "f78749e9",
   "metadata": {
    "execution": {
     "iopub.execute_input": "2023-08-12T22:04:47.087842Z",
     "iopub.status.busy": "2023-08-12T22:04:47.087178Z",
     "iopub.status.idle": "2023-08-12T22:04:47.097658Z",
     "shell.execute_reply": "2023-08-12T22:04:47.096810Z"
    },
    "papermill": {
     "duration": 0.114634,
     "end_time": "2023-08-12T22:04:47.099812",
     "exception": false,
     "start_time": "2023-08-12T22:04:46.985178",
     "status": "completed"
    },
    "tags": []
   },
   "outputs": [
    {
     "ename": "",
     "evalue": "",
     "output_type": "error",
     "traceback": [
      "\u001b[1;31mFailed to start the Kernel. \n",
      "\u001b[1;31mUnable to start Kernel 'anaconda (Python 3.11.4)' due to a timeout waiting for the ports to get used. \n",
      "\u001b[1;31mView Jupyter <a href='command:jupyter.viewOutput'>log</a> for further details."
     ]
    }
   ],
   "source": [
    "loan_dummies = pd.get_dummies(loan)"
   ]
  },
  {
   "cell_type": "code",
   "execution_count": null,
   "id": "9246da43",
   "metadata": {
    "execution": {
     "iopub.execute_input": "2023-08-12T22:04:47.302469Z",
     "iopub.status.busy": "2023-08-12T22:04:47.301561Z",
     "iopub.status.idle": "2023-08-12T22:04:47.308675Z",
     "shell.execute_reply": "2023-08-12T22:04:47.307738Z"
    },
    "papermill": {
     "duration": 0.111483,
     "end_time": "2023-08-12T22:04:47.311232",
     "exception": false,
     "start_time": "2023-08-12T22:04:47.199749",
     "status": "completed"
    },
    "tags": []
   },
   "outputs": [
    {
     "ename": "",
     "evalue": "",
     "output_type": "error",
     "traceback": [
      "\u001b[1;31mFailed to start the Kernel. \n",
      "\u001b[1;31mUnable to start Kernel 'anaconda (Python 3.11.4)' due to a timeout waiting for the ports to get used. \n",
      "\u001b[1;31mView Jupyter <a href='command:jupyter.viewOutput'>log</a> for further details."
     ]
    }
   ],
   "source": [
    "loan_dummies.rename(columns = {'education_ Graduate':'education', 'self_employed_ Yes':'self_employed', 'loan_status_ Approved':'loan_status' }, inplace = True)"
   ]
  },
  {
   "cell_type": "code",
   "execution_count": null,
   "id": "f39eaba1",
   "metadata": {
    "execution": {
     "iopub.execute_input": "2023-08-12T22:04:47.517613Z",
     "iopub.status.busy": "2023-08-12T22:04:47.516787Z",
     "iopub.status.idle": "2023-08-12T22:04:47.523271Z",
     "shell.execute_reply": "2023-08-12T22:04:47.522539Z"
    },
    "papermill": {
     "duration": 0.11416,
     "end_time": "2023-08-12T22:04:47.525524",
     "exception": false,
     "start_time": "2023-08-12T22:04:47.411364",
     "status": "completed"
    },
    "tags": []
   },
   "outputs": [
    {
     "ename": "",
     "evalue": "",
     "output_type": "error",
     "traceback": [
      "\u001b[1;31mFailed to start the Kernel. \n",
      "\u001b[1;31mUnable to start Kernel 'anaconda (Python 3.11.4)' due to a timeout waiting for the ports to get used. \n",
      "\u001b[1;31mView Jupyter <a href='command:jupyter.viewOutput'>log</a> for further details."
     ]
    }
   ],
   "source": [
    "loan_dummies = loan_dummies.drop(['education_ Not Graduate', 'self_employed_ No', 'loan_status_ Rejected'], axis=1)"
   ]
  },
  {
   "cell_type": "code",
   "execution_count": null,
   "id": "51efdcfe",
   "metadata": {
    "execution": {
     "iopub.execute_input": "2023-08-12T22:04:47.731591Z",
     "iopub.status.busy": "2023-08-12T22:04:47.730766Z",
     "iopub.status.idle": "2023-08-12T22:04:47.738142Z",
     "shell.execute_reply": "2023-08-12T22:04:47.737115Z"
    },
    "papermill": {
     "duration": 0.113615,
     "end_time": "2023-08-12T22:04:47.740331",
     "exception": false,
     "start_time": "2023-08-12T22:04:47.626716",
     "status": "completed"
    },
    "tags": []
   },
   "outputs": [
    {
     "ename": "",
     "evalue": "",
     "output_type": "error",
     "traceback": [
      "\u001b[1;31mFailed to start the Kernel. \n",
      "\u001b[1;31mUnable to start Kernel 'anaconda (Python 3.11.4)' due to a timeout waiting for the ports to get used. \n",
      "\u001b[1;31mView Jupyter <a href='command:jupyter.viewOutput'>log</a> for further details."
     ]
    }
   ],
   "source": [
    "loan_dummies.columns"
   ]
  },
  {
   "cell_type": "markdown",
   "id": "99d183c0",
   "metadata": {
    "papermill": {
     "duration": 0.099163,
     "end_time": "2023-08-12T22:04:47.939597",
     "exception": false,
     "start_time": "2023-08-12T22:04:47.840434",
     "status": "completed"
    },
    "tags": []
   },
   "source": [
    "Let's check the correlation score again!"
   ]
  },
  {
   "cell_type": "code",
   "execution_count": null,
   "id": "6cbedbbb",
   "metadata": {
    "execution": {
     "iopub.execute_input": "2023-08-12T22:04:48.141091Z",
     "iopub.status.busy": "2023-08-12T22:04:48.140258Z",
     "iopub.status.idle": "2023-08-12T22:04:48.147869Z",
     "shell.execute_reply": "2023-08-12T22:04:48.147080Z"
    },
    "papermill": {
     "duration": 0.110126,
     "end_time": "2023-08-12T22:04:48.150114",
     "exception": false,
     "start_time": "2023-08-12T22:04:48.039988",
     "status": "completed"
    },
    "tags": []
   },
   "outputs": [
    {
     "ename": "",
     "evalue": "",
     "output_type": "error",
     "traceback": [
      "\u001b[1;31mFailed to start the Kernel. \n",
      "\u001b[1;31mUnable to start Kernel 'anaconda (Python 3.11.4)' due to a timeout waiting for the ports to get used. \n",
      "\u001b[1;31mView Jupyter <a href='command:jupyter.viewOutput'>log</a> for further details."
     ]
    }
   ],
   "source": [
    "loan_corr = loan_dummies.corr()"
   ]
  },
  {
   "cell_type": "code",
   "execution_count": null,
   "id": "bd899b45",
   "metadata": {
    "execution": {
     "iopub.execute_input": "2023-08-12T22:04:48.351616Z",
     "iopub.status.busy": "2023-08-12T22:04:48.350756Z",
     "iopub.status.idle": "2023-08-12T22:04:49.243525Z",
     "shell.execute_reply": "2023-08-12T22:04:49.242356Z"
    },
    "papermill": {
     "duration": 0.997804,
     "end_time": "2023-08-12T22:04:49.247258",
     "exception": false,
     "start_time": "2023-08-12T22:04:48.249454",
     "status": "completed"
    },
    "tags": []
   },
   "outputs": [
    {
     "ename": "",
     "evalue": "",
     "output_type": "error",
     "traceback": [
      "\u001b[1;31mFailed to start the Kernel. \n",
      "\u001b[1;31mUnable to start Kernel 'anaconda (Python 3.11.4)' due to a timeout waiting for the ports to get used. \n",
      "\u001b[1;31mView Jupyter <a href='command:jupyter.viewOutput'>log</a> for further details."
     ]
    }
   ],
   "source": [
    "plt.figure(figsize=(9,9))\n",
    "sns.heatmap(loan_corr, annot=True, fmt=\".2f\", cmap=\"coolwarm\")"
   ]
  },
  {
   "cell_type": "markdown",
   "id": "365f9422",
   "metadata": {
    "papermill": {
     "duration": 0.103803,
     "end_time": "2023-08-12T22:04:49.455234",
     "exception": false,
     "start_time": "2023-08-12T22:04:49.351431",
     "status": "completed"
    },
    "tags": []
   },
   "source": [
    "1. Over the heatmap above, we can now see the variable that affects the `loan_status` the most is `cibil_score`.\n",
    "1. We also proved there is no variable that has a linear relationship with the `education` and `self_employed`.\n",
    "1. As we already mentioned over previous sections, there are strong linear relationship between `income_annum` & `loan_amount`, `luxury_assets_value` & `income_annum`, `bank_asset_value` & `income_annum` and `luxury_assets_value` & `bank_asset_value`"
   ]
  },
  {
   "cell_type": "code",
   "execution_count": null,
   "id": "8298deb7",
   "metadata": {
    "execution": {
     "iopub.execute_input": "2023-08-12T22:04:49.684283Z",
     "iopub.status.busy": "2023-08-12T22:04:49.683480Z",
     "iopub.status.idle": "2023-08-12T22:04:49.690338Z",
     "shell.execute_reply": "2023-08-12T22:04:49.689549Z"
    },
    "papermill": {
     "duration": 0.114978,
     "end_time": "2023-08-12T22:04:49.692514",
     "exception": false,
     "start_time": "2023-08-12T22:04:49.577536",
     "status": "completed"
    },
    "tags": []
   },
   "outputs": [
    {
     "ename": "",
     "evalue": "",
     "output_type": "error",
     "traceback": [
      "\u001b[1;31mFailed to start the Kernel. \n",
      "\u001b[1;31mUnable to start Kernel 'anaconda (Python 3.11.4)' due to a timeout waiting for the ports to get used. \n",
      "\u001b[1;31mView Jupyter <a href='command:jupyter.viewOutput'>log</a> for further details."
     ]
    }
   ],
   "source": [
    "y = loan_dummies['loan_status']\n",
    "X = loan_dummies.drop(['loan_status'], axis =1)"
   ]
  },
  {
   "cell_type": "code",
   "execution_count": null,
   "id": "1cdc2490",
   "metadata": {
    "execution": {
     "iopub.execute_input": "2023-08-12T22:04:49.898591Z",
     "iopub.status.busy": "2023-08-12T22:04:49.897622Z",
     "iopub.status.idle": "2023-08-12T22:04:49.904836Z",
     "shell.execute_reply": "2023-08-12T22:04:49.903906Z"
    },
    "papermill": {
     "duration": 0.112963,
     "end_time": "2023-08-12T22:04:49.906904",
     "exception": false,
     "start_time": "2023-08-12T22:04:49.793941",
     "status": "completed"
    },
    "tags": []
   },
   "outputs": [
    {
     "ename": "",
     "evalue": "",
     "output_type": "error",
     "traceback": [
      "\u001b[1;31mFailed to start the Kernel. \n",
      "\u001b[1;31mUnable to start Kernel 'anaconda (Python 3.11.4)' due to a timeout waiting for the ports to get used. \n",
      "\u001b[1;31mView Jupyter <a href='command:jupyter.viewOutput'>log</a> for further details."
     ]
    }
   ],
   "source": [
    "X_temp, X_test, y_temp, y_test = train_test_split(X, y,  test_size = 0.2, random_state = 42)"
   ]
  },
  {
   "cell_type": "code",
   "execution_count": null,
   "id": "40cbeae4",
   "metadata": {
    "execution": {
     "iopub.execute_input": "2023-08-12T22:04:50.113829Z",
     "iopub.status.busy": "2023-08-12T22:04:50.113385Z",
     "iopub.status.idle": "2023-08-12T22:04:50.120976Z",
     "shell.execute_reply": "2023-08-12T22:04:50.120214Z"
    },
    "papermill": {
     "duration": 0.114197,
     "end_time": "2023-08-12T22:04:50.122967",
     "exception": false,
     "start_time": "2023-08-12T22:04:50.008770",
     "status": "completed"
    },
    "tags": []
   },
   "outputs": [
    {
     "ename": "",
     "evalue": "",
     "output_type": "error",
     "traceback": [
      "\u001b[1;31mFailed to start the Kernel. \n",
      "\u001b[1;31mUnable to start Kernel 'anaconda (Python 3.11.4)' due to a timeout waiting for the ports to get used. \n",
      "\u001b[1;31mView Jupyter <a href='command:jupyter.viewOutput'>log</a> for further details."
     ]
    }
   ],
   "source": [
    "X_train, X_val, y_train, y_val = train_test_split(X_temp, y_temp, test_size=0.25, random_state=42)\n"
   ]
  },
  {
   "cell_type": "code",
   "execution_count": null,
   "id": "27b959a7",
   "metadata": {
    "execution": {
     "iopub.execute_input": "2023-08-12T22:04:50.328285Z",
     "iopub.status.busy": "2023-08-12T22:04:50.327538Z",
     "iopub.status.idle": "2023-08-12T22:04:50.334918Z",
     "shell.execute_reply": "2023-08-12T22:04:50.333953Z"
    },
    "papermill": {
     "duration": 0.112424,
     "end_time": "2023-08-12T22:04:50.336953",
     "exception": false,
     "start_time": "2023-08-12T22:04:50.224529",
     "status": "completed"
    },
    "tags": []
   },
   "outputs": [
    {
     "ename": "",
     "evalue": "",
     "output_type": "error",
     "traceback": [
      "\u001b[1;31mFailed to start the Kernel. \n",
      "\u001b[1;31mUnable to start Kernel 'anaconda (Python 3.11.4)' due to a timeout waiting for the ports to get used. \n",
      "\u001b[1;31mView Jupyter <a href='command:jupyter.viewOutput'>log</a> for further details."
     ]
    }
   ],
   "source": [
    "X_train.shape, y_train.shape, X_val.shape, y_val.shape, X_test.shape, y_test.shape"
   ]
  },
  {
   "cell_type": "markdown",
   "id": "7b38b150",
   "metadata": {
    "papermill": {
     "duration": 0.101456,
     "end_time": "2023-08-12T22:04:50.540152",
     "exception": false,
     "start_time": "2023-08-12T22:04:50.438696",
     "status": "completed"
    },
    "tags": []
   },
   "source": [
    "We perfectly separate the train, validation and test sets with 60:20:20 ratio in the overall dataset."
   ]
  },
  {
   "cell_type": "code",
   "execution_count": null,
   "id": "75390e1e",
   "metadata": {
    "execution": {
     "iopub.execute_input": "2023-08-12T22:04:50.746592Z",
     "iopub.status.busy": "2023-08-12T22:04:50.745796Z",
     "iopub.status.idle": "2023-08-12T22:04:50.759486Z",
     "shell.execute_reply": "2023-08-12T22:04:50.758683Z"
    },
    "papermill": {
     "duration": 0.120742,
     "end_time": "2023-08-12T22:04:50.761892",
     "exception": false,
     "start_time": "2023-08-12T22:04:50.641150",
     "status": "completed"
    },
    "tags": []
   },
   "outputs": [
    {
     "ename": "",
     "evalue": "",
     "output_type": "error",
     "traceback": [
      "\u001b[1;31mFailed to start the Kernel. \n",
      "\u001b[1;31mUnable to start Kernel 'anaconda (Python 3.11.4)' due to a timeout waiting for the ports to get used. \n",
      "\u001b[1;31mView Jupyter <a href='command:jupyter.viewOutput'>log</a> for further details."
     ]
    }
   ],
   "source": [
    "stand_scaler = StandardScaler()\n",
    "stand_scaler.fit(X_train)\n",
    "X_train_stand = stand_scaler.transform(X_train)\n",
    "X_val_stand = stand_scaler.transform(X_val)\n",
    "X_test_stand = stand_scaler.transform(X_test)\n"
   ]
  },
  {
   "cell_type": "markdown",
   "id": "f5e67b04",
   "metadata": {
    "papermill": {
     "duration": 0.100986,
     "end_time": "2023-08-12T22:04:50.964642",
     "exception": false,
     "start_time": "2023-08-12T22:04:50.863656",
     "status": "completed"
    },
    "tags": []
   },
   "source": [
    "We firstly want to try a simple one, Logistic Regression."
   ]
  },
  {
   "cell_type": "code",
   "execution_count": null,
   "id": "1d3c4949",
   "metadata": {
    "execution": {
     "iopub.execute_input": "2023-08-12T22:04:51.169173Z",
     "iopub.status.busy": "2023-08-12T22:04:51.168339Z",
     "iopub.status.idle": "2023-08-12T22:04:51.206043Z",
     "shell.execute_reply": "2023-08-12T22:04:51.204534Z"
    },
    "papermill": {
     "duration": 0.145069,
     "end_time": "2023-08-12T22:04:51.210188",
     "exception": false,
     "start_time": "2023-08-12T22:04:51.065119",
     "status": "completed"
    },
    "tags": []
   },
   "outputs": [
    {
     "ename": "",
     "evalue": "",
     "output_type": "error",
     "traceback": [
      "\u001b[1;31mFailed to start the Kernel. \n",
      "\u001b[1;31mUnable to start Kernel 'anaconda (Python 3.11.4)' due to a timeout waiting for the ports to get used. \n",
      "\u001b[1;31mView Jupyter <a href='command:jupyter.viewOutput'>log</a> for further details."
     ]
    }
   ],
   "source": [
    "clf = LogisticRegression().fit(X_train_stand,y_train)"
   ]
  },
  {
   "cell_type": "code",
   "execution_count": null,
   "id": "489462df",
   "metadata": {
    "execution": {
     "iopub.execute_input": "2023-08-12T22:04:51.474701Z",
     "iopub.status.busy": "2023-08-12T22:04:51.474106Z",
     "iopub.status.idle": "2023-08-12T22:04:51.487020Z",
     "shell.execute_reply": "2023-08-12T22:04:51.485032Z"
    },
    "papermill": {
     "duration": 0.11984,
     "end_time": "2023-08-12T22:04:51.490001",
     "exception": false,
     "start_time": "2023-08-12T22:04:51.370161",
     "status": "completed"
    },
    "tags": []
   },
   "outputs": [
    {
     "ename": "",
     "evalue": "",
     "output_type": "error",
     "traceback": [
      "\u001b[1;31mFailed to start the Kernel. \n",
      "\u001b[1;31mUnable to start Kernel 'anaconda (Python 3.11.4)' due to a timeout waiting for the ports to get used. \n",
      "\u001b[1;31mView Jupyter <a href='command:jupyter.viewOutput'>log</a> for further details."
     ]
    }
   ],
   "source": [
    "coefficients = clf.coef_[0]\n",
    "intercept = clf.intercept_\n",
    "\n",
    "variables = list(X_train.columns)\n",
    "\n",
    "clf_summary = []\n",
    "for var, coef in zip(variables, coefficients):\n",
    "    clf_summary.append([var, coef])\n",
    "\n",
    "clf_summary.append([\"Intercept\", intercept[0]])\n",
    "\n",
    "\n",
    "print(tabulate(clf_summary, headers=[\"Variables\", \"Coefficient\"], tablefmt=\"grid\"))\n"
   ]
  },
  {
   "cell_type": "markdown",
   "id": "a71622b8",
   "metadata": {
    "papermill": {
     "duration": 0.107969,
     "end_time": "2023-08-12T22:04:51.705852",
     "exception": false,
     "start_time": "2023-08-12T22:04:51.597883",
     "status": "completed"
    },
    "tags": []
   },
   "source": [
    "The logistic regression model was trained on the standardized features of the training data. The coefficients represent the change in the log-odds of the target variable for a one-unit increase in each standardized feature. The intercept term provides the baseline log-odds when all standardized features are zero. Positive coefficients indicate a positive association with the target variable, while negative coefficients indicate a negative association. The magnitude of the coefficients reflects the strength of the relationship between each feature and the log-odds of the outcome."
   ]
  },
  {
   "cell_type": "code",
   "execution_count": null,
   "id": "65c8a377",
   "metadata": {
    "execution": {
     "iopub.execute_input": "2023-08-12T22:04:51.922530Z",
     "iopub.status.busy": "2023-08-12T22:04:51.921616Z",
     "iopub.status.idle": "2023-08-12T22:04:51.929712Z",
     "shell.execute_reply": "2023-08-12T22:04:51.928400Z"
    },
    "papermill": {
     "duration": 0.120526,
     "end_time": "2023-08-12T22:04:51.933446",
     "exception": false,
     "start_time": "2023-08-12T22:04:51.812920",
     "status": "completed"
    },
    "tags": []
   },
   "outputs": [
    {
     "ename": "",
     "evalue": "",
     "output_type": "error",
     "traceback": [
      "\u001b[1;31mFailed to start the Kernel. \n",
      "\u001b[1;31mUnable to start Kernel 'anaconda (Python 3.11.4)' due to a timeout waiting for the ports to get used. \n",
      "\u001b[1;31mView Jupyter <a href='command:jupyter.viewOutput'>log</a> for further details."
     ]
    }
   ],
   "source": [
    "y_lr = clf.predict(X_val_stand) "
   ]
  },
  {
   "cell_type": "code",
   "execution_count": null,
   "id": "19302200",
   "metadata": {
    "execution": {
     "iopub.execute_input": "2023-08-12T22:04:52.199274Z",
     "iopub.status.busy": "2023-08-12T22:04:52.198222Z",
     "iopub.status.idle": "2023-08-12T22:04:52.212795Z",
     "shell.execute_reply": "2023-08-12T22:04:52.211495Z"
    },
    "papermill": {
     "duration": 0.122338,
     "end_time": "2023-08-12T22:04:52.215237",
     "exception": false,
     "start_time": "2023-08-12T22:04:52.092899",
     "status": "completed"
    },
    "tags": []
   },
   "outputs": [
    {
     "ename": "",
     "evalue": "",
     "output_type": "error",
     "traceback": [
      "\u001b[1;31mFailed to start the Kernel. \n",
      "\u001b[1;31mUnable to start Kernel 'anaconda (Python 3.11.4)' due to a timeout waiting for the ports to get used. \n",
      "\u001b[1;31mView Jupyter <a href='command:jupyter.viewOutput'>log</a> for further details."
     ]
    }
   ],
   "source": [
    "print('Accuracy:', '%.3f' % accuracy_score(y_val, y_lr))\n",
    "print('Precision:', '%.3f' % precision_score(y_val, y_lr))\n",
    "print('Recall:', '%.3f' % recall_score(y_val, y_lr))\n",
    "print('F1 Score:', '%.3f' % f1_score(y_val, y_lr))\n"
   ]
  },
  {
   "cell_type": "markdown",
   "id": "59fca365",
   "metadata": {
    "papermill": {
     "duration": 0.10236,
     "end_time": "2023-08-12T22:04:52.419527",
     "exception": false,
     "start_time": "2023-08-12T22:04:52.317167",
     "status": "completed"
    },
    "tags": []
   },
   "source": [
    "The Logistic Regression model has already performed well, but we want to try a Random Forest model as well."
   ]
  },
  {
   "cell_type": "code",
   "execution_count": null,
   "id": "056ff25b",
   "metadata": {
    "execution": {
     "iopub.execute_input": "2023-08-12T22:04:52.628271Z",
     "iopub.status.busy": "2023-08-12T22:04:52.627631Z",
     "iopub.status.idle": "2023-08-12T22:05:16.523249Z",
     "shell.execute_reply": "2023-08-12T22:05:16.522086Z"
    },
    "papermill": {
     "duration": 24.003399,
     "end_time": "2023-08-12T22:05:16.525890",
     "exception": false,
     "start_time": "2023-08-12T22:04:52.522491",
     "status": "completed"
    },
    "tags": []
   },
   "outputs": [
    {
     "ename": "",
     "evalue": "",
     "output_type": "error",
     "traceback": [
      "\u001b[1;31mFailed to start the Kernel. \n",
      "\u001b[1;31mUnable to start Kernel 'anaconda (Python 3.11.4)' due to a timeout waiting for the ports to get used. \n",
      "\u001b[1;31mView Jupyter <a href='command:jupyter.viewOutput'>log</a> for further details."
     ]
    }
   ],
   "source": [
    "param_dist = {\n",
    "    'n_estimators': [50, 100, 150],\n",
    "    'max_depth': [None, 10, 20],\n",
    "    'min_samples_split': [2, 5, 10],\n",
    "    'min_samples_leaf': [1, 2, 4]\n",
    "}\n",
    "\n",
    "rf = RandomForestClassifier()\n",
    "random_search = RandomizedSearchCV(rf, param_distributions=param_dist, n_iter=10, cv=5, scoring='accuracy')\n",
    "random_search.fit(X_train, y_train)\n",
    "\n",
    "best_params = random_search.best_params_\n",
    "best_forest = random_search.best_estimator_\n"
   ]
  },
  {
   "cell_type": "code",
   "execution_count": null,
   "id": "d0a9ce06",
   "metadata": {
    "execution": {
     "iopub.execute_input": "2023-08-12T22:05:16.733742Z",
     "iopub.status.busy": "2023-08-12T22:05:16.733225Z",
     "iopub.status.idle": "2023-08-12T22:05:16.745434Z",
     "shell.execute_reply": "2023-08-12T22:05:16.744407Z"
    },
    "papermill": {
     "duration": 0.119989,
     "end_time": "2023-08-12T22:05:16.747674",
     "exception": false,
     "start_time": "2023-08-12T22:05:16.627685",
     "status": "completed"
    },
    "tags": []
   },
   "outputs": [
    {
     "ename": "",
     "evalue": "",
     "output_type": "error",
     "traceback": [
      "\u001b[1;31mFailed to start the Kernel. \n",
      "\u001b[1;31mUnable to start Kernel 'anaconda (Python 3.11.4)' due to a timeout waiting for the ports to get used. \n",
      "\u001b[1;31mView Jupyter <a href='command:jupyter.viewOutput'>log</a> for further details."
     ]
    }
   ],
   "source": [
    "best_params, best_forest"
   ]
  },
  {
   "cell_type": "code",
   "execution_count": null,
   "id": "259bd228",
   "metadata": {
    "execution": {
     "iopub.execute_input": "2023-08-12T22:05:16.960231Z",
     "iopub.status.busy": "2023-08-12T22:05:16.959836Z",
     "iopub.status.idle": "2023-08-12T22:05:17.633565Z",
     "shell.execute_reply": "2023-08-12T22:05:17.632288Z"
    },
    "papermill": {
     "duration": 0.782223,
     "end_time": "2023-08-12T22:05:17.636300",
     "exception": false,
     "start_time": "2023-08-12T22:05:16.854077",
     "status": "completed"
    },
    "tags": []
   },
   "outputs": [
    {
     "ename": "",
     "evalue": "",
     "output_type": "error",
     "traceback": [
      "\u001b[1;31mFailed to start the Kernel. \n",
      "\u001b[1;31mUnable to start Kernel 'anaconda (Python 3.11.4)' due to a timeout waiting for the ports to get used. \n",
      "\u001b[1;31mView Jupyter <a href='command:jupyter.viewOutput'>log</a> for further details."
     ]
    }
   ],
   "source": [
    "rf_opt = RandomForestClassifier(n_estimators = 150, max_depth = None, \n",
    "                                min_samples_leaf = 1, min_samples_split = 5,random_state = 0)\n",
    "rf_opt.fit(X_train, y_train)\n",
    "y_rf = rf_opt.predict(X_val)"
   ]
  },
  {
   "cell_type": "code",
   "execution_count": null,
   "id": "30b54f43",
   "metadata": {
    "execution": {
     "iopub.execute_input": "2023-08-12T22:05:17.846206Z",
     "iopub.status.busy": "2023-08-12T22:05:17.845142Z",
     "iopub.status.idle": "2023-08-12T22:05:17.860067Z",
     "shell.execute_reply": "2023-08-12T22:05:17.858825Z"
    },
    "papermill": {
     "duration": 0.121896,
     "end_time": "2023-08-12T22:05:17.862090",
     "exception": false,
     "start_time": "2023-08-12T22:05:17.740194",
     "status": "completed"
    },
    "tags": []
   },
   "outputs": [
    {
     "ename": "",
     "evalue": "",
     "output_type": "error",
     "traceback": [
      "\u001b[1;31mFailed to start the Kernel. \n",
      "\u001b[1;31mUnable to start Kernel 'anaconda (Python 3.11.4)' due to a timeout waiting for the ports to get used. \n",
      "\u001b[1;31mView Jupyter <a href='command:jupyter.viewOutput'>log</a> for further details."
     ]
    }
   ],
   "source": [
    "print('Accuracy:', '%.3f' % accuracy_score(y_val, y_rf))\n",
    "print('Precision:', '%.3f' % precision_score(y_val, y_rf))\n",
    "print('Recall:', '%.3f' % recall_score(y_val, y_rf))\n",
    "print('F1 Score:', '%.3f' % f1_score(y_val, y_rf))"
   ]
  },
  {
   "cell_type": "code",
   "execution_count": null,
   "id": "69362f59",
   "metadata": {
    "execution": {
     "iopub.execute_input": "2023-08-12T22:05:18.070759Z",
     "iopub.status.busy": "2023-08-12T22:05:18.070051Z",
     "iopub.status.idle": "2023-08-12T22:05:18.119858Z",
     "shell.execute_reply": "2023-08-12T22:05:18.118239Z"
    },
    "papermill": {
     "duration": 0.157378,
     "end_time": "2023-08-12T22:05:18.122440",
     "exception": false,
     "start_time": "2023-08-12T22:05:17.965062",
     "status": "completed"
    },
    "tags": []
   },
   "outputs": [
    {
     "ename": "",
     "evalue": "",
     "output_type": "error",
     "traceback": [
      "\u001b[1;31mFailed to start the Kernel. \n",
      "\u001b[1;31mUnable to start Kernel 'anaconda (Python 3.11.4)' due to a timeout waiting for the ports to get used. \n",
      "\u001b[1;31mView Jupyter <a href='command:jupyter.viewOutput'>log</a> for further details."
     ]
    }
   ],
   "source": [
    "y_test_rf = rf_opt.predict(X_test)\n",
    "\n",
    "print('Accuracy:', '%.3f' % accuracy_score(y_test, y_test_rf))\n",
    "print('Precision:', '%.3f' % precision_score(y_test, y_test_rf))\n",
    "print('Recall:', '%.3f' % recall_score(y_test, y_test_rf))\n",
    "print('F1 Score:', '%.3f' % f1_score(y_test, y_test_rf))"
   ]
  },
  {
   "cell_type": "markdown",
   "id": "ee52ca02",
   "metadata": {
    "papermill": {
     "duration": 0.103524,
     "end_time": "2023-08-12T22:05:18.328312",
     "exception": false,
     "start_time": "2023-08-12T22:05:18.224788",
     "status": "completed"
    },
    "tags": []
   },
   "source": [
    "The Random Forest model performed better performance than the Logistic Regression Model, we are going to use this one!"
   ]
  },
  {
   "cell_type": "markdown",
   "id": "da7b7485",
   "metadata": {
    "papermill": {
     "duration": 0.102865,
     "end_time": "2023-08-12T22:05:18.534537",
     "exception": false,
     "start_time": "2023-08-12T22:05:18.431672",
     "status": "completed"
    },
    "tags": []
   },
   "source": [
    "The scores we've obtained on the test set are remarkably similar to the validation set scores, which is a positive indication that model's performance generalizes well to new and unseen data. Here's what the scores mean:\n",
    "* Accuracy: Both on the validation set and the test set, we have an accuracy of around 0.972 to 0.973. This suggests that our model is correctly classifying around 97.2% to 97.3% of instances in both datasets.\n",
    "\n",
    "* Precision: Precision measures how many of the predicted positive instances are actually positive. With a precision of around 0.978 in both sets, it means that about 97.8% of the instances predicted as positive by our model are truly positive.\n",
    "\n",
    "* Recall: Recall, also known as sensitivity or true positive rate, indicates how many of the actual positive instances our model is capturing. With a recall of around 0.979 in both sets, it means that our model is correctly identifying about 97.9% of the actual positive instances.\n",
    "\n",
    "* F1 Score: The F1 score is the harmonic mean of precision and recall and provides a balanced view of a model's performance. With an F1 score of around 0.979 in both sets, it indicates that the model is achieving a balanced trade-off between precision and recall.\n",
    "<br>\n",
    "The fact that these metrics are very consistent between the validation and test sets is a great sign. It suggests that the model is not overfitting to the validation set and that it's likely to perform similarly well on new, unseen data.\n",
    "<br>\n",
    "Overall, the Random Forest model seems to have achieved a solid and robust performance on both the validation and test sets, demonstrating its capability to make accurate predictions across different datasets."
   ]
  },
  {
   "cell_type": "code",
   "execution_count": null,
   "id": "d3e1dcc9",
   "metadata": {
    "execution": {
     "iopub.execute_input": "2023-08-12T22:05:18.742931Z",
     "iopub.status.busy": "2023-08-12T22:05:18.742099Z",
     "iopub.status.idle": "2023-08-12T22:05:19.050878Z",
     "shell.execute_reply": "2023-08-12T22:05:19.049752Z"
    },
    "papermill": {
     "duration": 0.415453,
     "end_time": "2023-08-12T22:05:19.053246",
     "exception": false,
     "start_time": "2023-08-12T22:05:18.637793",
     "status": "completed"
    },
    "tags": []
   },
   "outputs": [
    {
     "ename": "",
     "evalue": "",
     "output_type": "error",
     "traceback": [
      "\u001b[1;31mFailed to start the Kernel. \n",
      "\u001b[1;31mUnable to start Kernel 'anaconda (Python 3.11.4)' due to a timeout waiting for the ports to get used. \n",
      "\u001b[1;31mView Jupyter <a href='command:jupyter.viewOutput'>log</a> for further details."
     ]
    }
   ],
   "source": [
    "cm = metrics.confusion_matrix(y_val, y_rf, labels = rf_opt.classes_)\n",
    "disp = metrics.ConfusionMatrixDisplay(confusion_matrix = cm,display_labels = rf_opt.classes_)\n",
    "disp.plot()"
   ]
  },
  {
   "cell_type": "markdown",
   "id": "c9850993",
   "metadata": {
    "papermill": {
     "duration": 0.102072,
     "end_time": "2023-08-12T22:05:19.258897",
     "exception": false,
     "start_time": "2023-08-12T22:05:19.156825",
     "status": "completed"
    },
    "tags": []
   },
   "source": [
    "The scores in the confusion matrix above mean:\n",
    "* True negatives (upper left): The number of applications that were rejected that the model accurately predicted were rejected.\n",
    "* False negatives (bottom left): The number of applications that were approved that the model inaccurately predicted were rejected.\n",
    "* False positives (upper right): The number of applications that were rejected that the model inaccurately predicted were approved.\n",
    "* True positives (bottom right): The number of applications that were approved that the model accurately predicted were approved.\n"
   ]
  },
  {
   "cell_type": "code",
   "execution_count": null,
   "id": "6177b26a",
   "metadata": {
    "execution": {
     "iopub.execute_input": "2023-08-12T22:05:19.477191Z",
     "iopub.status.busy": "2023-08-12T22:05:19.476302Z",
     "iopub.status.idle": "2023-08-12T22:05:19.862663Z",
     "shell.execute_reply": "2023-08-12T22:05:19.861416Z"
    },
    "papermill": {
     "duration": 0.498193,
     "end_time": "2023-08-12T22:05:19.865214",
     "exception": false,
     "start_time": "2023-08-12T22:05:19.367021",
     "status": "completed"
    },
    "tags": []
   },
   "outputs": [
    {
     "ename": "",
     "evalue": "",
     "output_type": "error",
     "traceback": [
      "\u001b[1;31mFailed to start the Kernel. \n",
      "\u001b[1;31mUnable to start Kernel 'anaconda (Python 3.11.4)' due to a timeout waiting for the ports to get used. \n",
      "\u001b[1;31mView Jupyter <a href='command:jupyter.viewOutput'>log</a> for further details."
     ]
    }
   ],
   "source": [
    "importances = rf_opt.feature_importances_\n",
    "forest_importances = pd.Series(importances, index=X.columns)\n",
    "\n",
    "# Sort the Series by importance in descending order\n",
    "forest_importances_sorted = forest_importances.sort_values(ascending=False)\n",
    "\n",
    "fig, ax = plt.subplots()\n",
    "forest_importances_sorted.plot.bar(ax=ax)\n"
   ]
  },
  {
   "cell_type": "markdown",
   "id": "d0af4cf6",
   "metadata": {
    "papermill": {
     "duration": 0.103469,
     "end_time": "2023-08-12T22:05:20.072635",
     "exception": false,
     "start_time": "2023-08-12T22:05:19.969166",
     "status": "completed"
    },
    "tags": []
   },
   "source": [
    "In our analysis, we found that `cibil_score` stands out as the most important factor influencing the model's predictions. One possible reason for this prominence could be that `cibil_score` has a notable relationship with the target variable `loan_status`. However, it's important to note that correlation doesn't imply causation. While `cibil_score` plays a crucial role in the model's predictions, it's important to remember that our model identifies patterns and associations in the data. The importance of a feature doesn't necessarily mean it directly causes the predicted outcomes.In the context of our problem, `cibil_score` corresponds to credit scores. We should also consider that other factors, interactions between features, and potential noise in the data can influence these findings. Therefore, a holistic understanding of the model's behavior requires taking these aspects into account. The insights from the feature importance analysis can guide us in making informed decisions and refining our strategies. It's important to interpret these findings alongside other domain knowledge and analysis."
   ]
  },
  {
   "cell_type": "markdown",
   "id": "5c9a954c",
   "metadata": {
    "papermill": {
     "duration": 0.103113,
     "end_time": "2023-08-12T22:05:20.280108",
     "exception": false,
     "start_time": "2023-08-12T22:05:20.176995",
     "status": "completed"
    },
    "tags": []
   },
   "source": [
    "## Conclusion"
   ]
  },
  {
   "cell_type": "markdown",
   "id": "132b2811",
   "metadata": {
    "papermill": {
     "duration": 0.103598,
     "end_time": "2023-08-12T22:05:20.488019",
     "exception": false,
     "start_time": "2023-08-12T22:05:20.384421",
     "status": "completed"
    },
    "tags": []
   },
   "source": [
    "In conclusion, this data analysis project aimed to explore the relationships between various variables in a dataset and the loan approval status. Through a comprehensive exploratory data analysis (EDA), we examined key features such as loan amount, annual income, loan term, asset values, and demographic factors.\n",
    "<br>\n",
    "1. Our analysis revealed several important insights:\n",
    "\n",
    "    * Loan Amount and Annual Income: We found a strong positive correlation between loan amount and annual income. As expected, individuals with higher annual incomes were more likely to secure larger loan amounts. This underscores the importance of a borrower's financial capacity in determining loan approval.\n",
    "\n",
    "    * Loan Term and Approval Rate: Shorter loan terms, particularly 2 and 4 years, exhibited higher approval rates compared to longer terms. This suggests that borrowers opting for shorter loan durations are perceived as lower risk by lenders.\n",
    "\n",
    "    * Asset Values and Income: Luxury asset values and bank asset values demonstrated stronger positive correlations with annual income compared to residential and commercial asset values. This suggests that higher-income individuals are more likely to possess luxury items and maintain larger bank assets.\n",
    "\n",
    "    * Categorical Variables: Our ANOVA tests examined the relationships between categorical variables (no_of_dependents, education, self_employed) and loan amount. While some variables showed minor effects on loan amount, none exhibited statistically significant relationships.\n",
    "\n",
    "    * Machine Learning model: We used Random Forest model, which has ability to handle non-linearity, interactions between variables, and potential outliers, correctly predicted approximately 97% ~ 98% loan applications. This model allowed us to identify the most influential features in predicting loan approvals and made predictive performance remain reliable across various scenarios. While the model performs well, there's always room for improvement by gathering more data, refine features, and fine-tune model parameters to enhance predictive accuracy further.\n",
    "\n",
    "\n",
    "\n",
    "1. In light of these findings, it's clear that loan approval decisions are driven by a combination of financial factors, including income, loan amount, and loan term. While certain categorical variables appeared to have limited impact on loan amount, the overall focus should remain on financial indicators.\n",
    "\n",
    "1. It's important to note that our analysis is subject to certain limitations. The dataset may not capture all relevant factors affecting loan approval, and outliers or data inaccuracies could influence results. Additionally, causation cannot be established through correlation alone.\n",
    "\n",
    "1. Moving forward, this analysis provides valuable insights for lenders and borrowers alike. Lenders can use these findings to refine their loan approval criteria, while borrowers can better understand the factors influencing their chances of approval.\n",
    "\n",
    "1. Suggestion:\n",
    "    * Further research could delve deeper into qualitative aspects such as loan purpose, borrower credit history, and economic conditions. Additionally, considering a wider range of features and employing advanced machine learning techniques could provide a more nuanced understanding of loan approval dynamics.\n",
    "\n",
    "\n",
    "In conclusion, this analysis sheds light on the intricate relationships between various factors and loan approval outcomes. The insights gained can guide data-driven decision-making in the lending industry."
   ]
  },
  {
   "cell_type": "code",
   "execution_count": null,
   "id": "e421e35d",
   "metadata": {
    "papermill": {
     "duration": 0.104472,
     "end_time": "2023-08-12T22:05:20.696501",
     "exception": false,
     "start_time": "2023-08-12T22:05:20.592029",
     "status": "completed"
    },
    "tags": []
   },
   "outputs": [
    {
     "ename": "",
     "evalue": "",
     "output_type": "error",
     "traceback": [
      "\u001b[1;31mFailed to start the Kernel. \n",
      "\u001b[1;31mUnable to start Kernel 'anaconda (Python 3.11.4)' due to a timeout waiting for the ports to get used. \n",
      "\u001b[1;31mView Jupyter <a href='command:jupyter.viewOutput'>log</a> for further details."
     ]
    }
   ],
   "source": []
  }
 ],
 "metadata": {
  "kernelspec": {
   "display_name": "Python 3 (ipykernel)",
   "language": "python",
   "name": "python3"
  },
  "language_info": {
   "codemirror_mode": {
    "name": "ipython",
    "version": 3
   },
   "file_extension": ".py",
   "mimetype": "text/x-python",
   "name": "python",
   "nbconvert_exporter": "python",
   "pygments_lexer": "ipython3",
   "version": "3.11.4"
  },
  "papermill": {
   "default_parameters": {},
   "duration": 110.31802,
   "end_time": "2023-08-12T22:05:22.225609",
   "environment_variables": {},
   "exception": null,
   "input_path": "__notebook__.ipynb",
   "output_path": "__notebook__.ipynb",
   "parameters": {},
   "start_time": "2023-08-12T22:03:31.907589",
   "version": "2.4.0"
  }
 },
 "nbformat": 4,
 "nbformat_minor": 5
}
